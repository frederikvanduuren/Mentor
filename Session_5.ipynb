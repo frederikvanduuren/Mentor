{
  "nbformat": 4,
  "nbformat_minor": 0,
  "metadata": {
    "colab": {
      "name": "Session 5.ipynb",
      "provenance": [],
      "collapsed_sections": [],
      "include_colab_link": true
    },
    "kernelspec": {
      "name": "python3",
      "display_name": "Python 3"
    },
    "accelerator": "GPU"
  },
  "cells": [
    {
      "cell_type": "markdown",
      "metadata": {
        "id": "view-in-github",
        "colab_type": "text"
      },
      "source": [
        "<a href=\"https://colab.research.google.com/github/frederikvanduuren/Mentor/blob/master/Session_5.ipynb\" target=\"_parent\"><img src=\"https://colab.research.google.com/assets/colab-badge.svg\" alt=\"Open In Colab\"/></a>"
      ]
    },
    {
      "cell_type": "markdown",
      "metadata": {
        "id": "aNyZv-Ec52ot",
        "colab_type": "text"
      },
      "source": [
        "# Session 5"
      ]
    },
    {
      "cell_type": "markdown",
      "metadata": {
        "id": "-Z8RT61CWois",
        "colab_type": "text"
      },
      "source": [
        "## Normalizations:"
      ]
    },
    {
      "cell_type": "markdown",
      "metadata": {
        "id": "d3U4qgjiWvP8",
        "colab_type": "text"
      },
      "source": [
        "### Accelerate Learning of Deep Neural Networks With Batch Normalization\n",
        "\n",
        "If the input layer is benefiting from it, why not do the same thing also for the values in the hidden layers, that are changing all the time, and get 10 times or more improvement in the training speed.\n",
        "\n",
        "\n",
        "\n"
      ]
    },
    {
      "cell_type": "code",
      "metadata": {
        "id": "3m3w1Cw49Zkt",
        "colab_type": "code",
        "outputId": "11796952-ee01-4aa7-de68-6823d70ba559",
        "colab": {
          "base_uri": "https://localhost:8080/",
          "height": 34
        }
      },
      "source": [
        "# https://keras.io/\n",
        "#!pip install -q keras\n",
        "import keras"
      ],
      "execution_count": 0,
      "outputs": [
        {
          "output_type": "stream",
          "text": [
            "Using TensorFlow backend.\n"
          ],
          "name": "stderr"
        }
      ]
    },
    {
      "cell_type": "code",
      "metadata": {
        "id": "Eso6UHE080D4",
        "colab_type": "code",
        "colab": {}
      },
      "source": [
        "# import models/layers to be able to apply Convolution2D/MaxPooling2D/Flatten\n",
        "\n",
        "import numpy as np\n",
        "\n",
        "from keras.models import Sequential\n",
        "from keras.layers import Dense, Dropout, Activation, Flatten, Add\n",
        "from keras.layers import Convolution2D, MaxPooling2D\n",
        "from keras.utils import np_utils\n",
        "\n",
        "from keras.datasets import mnist\n",
        "import tensorflow as tf\n",
        "import seaborn as sns\n",
        "from matplotlib import pyplot"
      ],
      "execution_count": 0,
      "outputs": []
    },
    {
      "cell_type": "code",
      "metadata": {
        "id": "YFFGLKiRK2Jg",
        "colab_type": "code",
        "colab": {}
      },
      "source": [
        "%matplotlib inline\n",
        "from sklearn.metrics import confusion_matrix"
      ],
      "execution_count": 0,
      "outputs": []
    },
    {
      "cell_type": "markdown",
      "metadata": {
        "id": "zByEi95J86RD",
        "colab_type": "text"
      },
      "source": [
        "### Load pre-shuffled MNIST data into train and test sets"
      ]
    },
    {
      "cell_type": "code",
      "metadata": {
        "id": "7eRM0QWN83PV",
        "colab_type": "code",
        "colab": {}
      },
      "source": [
        "(X_train, y_train), (X_test, y_test) = mnist.load_data()\n",
        "X_copy = X_train"
      ],
      "execution_count": 0,
      "outputs": []
    },
    {
      "cell_type": "code",
      "metadata": {
        "id": "4a4Be72j8-ZC",
        "colab_type": "code",
        "outputId": "8238b023-a035-4dbf-81dd-695211122247",
        "colab": {
          "base_uri": "https://localhost:8080/",
          "height": 304
        }
      },
      "source": [
        "# training is consisting og 60k images of size 28x28 pixels\n",
        "print (X_train.shape)\n",
        "from matplotlib import pyplot as plt\n",
        "%matplotlib inline\n",
        "plt.imshow(X_train[62])"
      ],
      "execution_count": 0,
      "outputs": [
        {
          "output_type": "stream",
          "text": [
            "(60000, 28, 28)\n"
          ],
          "name": "stdout"
        },
        {
          "output_type": "execute_result",
          "data": {
            "text/plain": [
              "<matplotlib.image.AxesImage at 0x7f86dc96b240>"
            ]
          },
          "metadata": {
            "tags": []
          },
          "execution_count": 26
        },
        {
          "output_type": "display_data",
          "data": {
            "image/png": "[encoded data removed]",
            "text/plain": [
              "<Figure size 432x288 with 1 Axes>"
            ]
          },
          "metadata": {
            "tags": []
          }
        }
      ]
    },
    {
      "cell_type": "code",
      "metadata": {
        "id": "dkmprriw9AnZ",
        "colab_type": "code",
        "colab": {}
      },
      "source": [
        "# transform our dataset from having shape (n, width, height) to (n, width, height, depth=1) for tensorflow, the format is (N,H,W,C)\n",
        "\n",
        "\n",
        "X_train = X_train.reshape(X_train.shape[0], 28, 28,1)\n",
        "X_test = X_test.reshape(X_test.shape[0], 28, 28,1)"
      ],
      "execution_count": 0,
      "outputs": []
    },
    {
      "cell_type": "code",
      "metadata": {
        "id": "X2m4YS4E9CRh",
        "colab_type": "code",
        "colab": {}
      },
      "source": [
        "# process the input data is to convert our data type to float32 and normalizing values between 0 and 1\n",
        "\n",
        "X_train = X_train.astype('float32')\n",
        "X_test = X_test.astype('float32')\n",
        "X_train /= 255\n",
        "X_test /= 255"
      ],
      "execution_count": 0,
      "outputs": []
    },
    {
      "cell_type": "code",
      "metadata": {
        "id": "0Mn0vAYD9DvB",
        "colab_type": "code",
        "outputId": "742cd093-5654-409b-81da-4d51e29ff041",
        "colab": {
          "base_uri": "https://localhost:8080/",
          "height": 52
        }
      },
      "source": [
        "# is new shape (60000,28,28,1)\n",
        "print (X_train.shape)\n",
        "# the first 10 training target values\n",
        "y_train[:10]"
      ],
      "execution_count": 0,
      "outputs": [
        {
          "output_type": "stream",
          "text": [
            "(60000, 28, 28, 1)\n"
          ],
          "name": "stdout"
        },
        {
          "output_type": "execute_result",
          "data": {
            "text/plain": [
              "array([5, 0, 4, 1, 9, 2, 1, 3, 1, 4], dtype=uint8)"
            ]
          },
          "metadata": {
            "tags": []
          },
          "execution_count": 8
        }
      ]
    },
    {
      "cell_type": "code",
      "metadata": {
        "id": "ZG8JiXR39FHC",
        "colab_type": "code",
        "colab": {}
      },
      "source": [
        "# Convert 1-dimensional class arrays to 10-dimensional class matrices\n",
        "# 0 = [1, 0, 0, 0, 0, 0, 0, 0, 0, 0] 1 = [0, 1, 0, 0, 0, 0, 0, 0, 0, 0] 2 = [0, 0, 1, 0, 0, 0, 0, 0, 0, 0] ... 9 = [0, 0, 0, 0, 0, 0, 0, 0, 0, 1]\n",
        "\n",
        "Y_train = np_utils.to_categorical(y_train, 10)\n",
        "Y_test = np_utils.to_categorical(y_test, 10)"
      ],
      "execution_count": 0,
      "outputs": []
    },
    {
      "cell_type": "code",
      "metadata": {
        "id": "fYlFRvKS9HMB",
        "colab_type": "code",
        "colab": {}
      },
      "source": [
        "#Y_train[:10]\n"
      ],
      "execution_count": 0,
      "outputs": []
    },
    {
      "cell_type": "code",
      "metadata": {
        "id": "aEtQBwUYbCyH",
        "colab_type": "code",
        "outputId": "af820677-e15b-4863-a880-f50b26351538",
        "colab": {
          "base_uri": "https://localhost:8080/",
          "height": 677
        }
      },
      "source": [
        "# Test 5 finding the max number of kernels staying below 15k params\n",
        "# 12k parameters\n",
        "# Also accuracy of 99.6%\n",
        "model = Sequential()\n",
        "\n",
        "# output_channels * (input_channels * window_size + 1) == number_parameters\n",
        " \n",
        "model.add(Convolution2D(128, 3, 3, activation='relu', input_shape=(28,28,1)))\n",
        "model.add(Convolution2D(16, 1, activation='relu'))\n",
        "model.add(MaxPooling2D(pool_size = (2, 2)))\n",
        "model.add(Convolution2D(32, 3, 3, activation='relu', input_shape=(28,28,1))) \n",
        "model.add(Convolution2D(16, 1, activation='relu'))\n",
        "model.add(MaxPooling2D(pool_size = (2, 2)))\n",
        "model.add(Convolution2D(10, 5))\n",
        "model.add(Flatten())\n",
        "model.add(Activation('softmax'))\n",
        "model.summary()"
      ],
      "execution_count": 0,
      "outputs": [
        {
          "output_type": "stream",
          "text": [
            "WARNING:tensorflow:From /usr/local/lib/python3.6/dist-packages/keras/backend/tensorflow_backend.py:66: The name tf.get_default_graph is deprecated. Please use tf.compat.v1.get_default_graph instead.\n",
            "\n",
            "WARNING:tensorflow:From /usr/local/lib/python3.6/dist-packages/keras/backend/tensorflow_backend.py:541: The name tf.placeholder is deprecated. Please use tf.compat.v1.placeholder instead.\n",
            "\n",
            "WARNING:tensorflow:From /usr/local/lib/python3.6/dist-packages/keras/backend/tensorflow_backend.py:4432: The name tf.random_uniform is deprecated. Please use tf.random.uniform instead.\n",
            "\n",
            "WARNING:tensorflow:From /usr/local/lib/python3.6/dist-packages/keras/backend/tensorflow_backend.py:4267: The name tf.nn.max_pool is deprecated. Please use tf.nn.max_pool2d instead.\n",
            "\n",
            "Model: \"sequential_1\"\n",
            "_________________________________________________________________\n",
            "Layer (type)                 Output Shape              Param #   \n",
            "=================================================================\n",
            "conv2d_1 (Conv2D)            (None, 26, 26, 128)       1280      \n",
            "_________________________________________________________________\n",
            "conv2d_2 (Conv2D)            (None, 26, 26, 16)        2064      \n",
            "_________________________________________________________________\n",
            "max_pooling2d_1 (MaxPooling2 (None, 13, 13, 16)        0         \n",
            "_________________________________________________________________\n",
            "conv2d_3 (Conv2D)            (None, 11, 11, 32)        4640      \n",
            "_________________________________________________________________\n",
            "conv2d_4 (Conv2D)            (None, 11, 11, 16)        528       \n",
            "_________________________________________________________________\n",
            "max_pooling2d_2 (MaxPooling2 (None, 5, 5, 16)          0         \n",
            "_________________________________________________________________\n",
            "conv2d_5 (Conv2D)            (None, 1, 1, 10)          4010      \n",
            "_________________________________________________________________\n",
            "flatten_1 (Flatten)          (None, 10)                0         \n",
            "_________________________________________________________________\n",
            "activation_1 (Activation)    (None, 10)                0         \n",
            "=================================================================\n",
            "Total params: 12,522\n",
            "Trainable params: 12,522\n",
            "Non-trainable params: 0\n",
            "_________________________________________________________________\n"
          ],
          "name": "stdout"
        },
        {
          "output_type": "stream",
          "text": [
            "/usr/local/lib/python3.6/dist-packages/ipykernel_launcher.py:5: UserWarning: Update your `Conv2D` call to the Keras 2 API: `Conv2D(128, (3, 3), activation=\"relu\", input_shape=(28, 28, 1...)`\n",
            "  \"\"\"\n",
            "/usr/local/lib/python3.6/dist-packages/ipykernel_launcher.py:8: UserWarning: Update your `Conv2D` call to the Keras 2 API: `Conv2D(32, (3, 3), activation=\"relu\", input_shape=(28, 28, 1...)`\n",
            "  \n"
          ],
          "name": "stderr"
        }
      ]
    },
    {
      "cell_type": "code",
      "metadata": {
        "id": "Zp6SuGrL9M3h",
        "colab_type": "code",
        "outputId": "e1aad015-4f88-496a-b86e-dc867f51e942",
        "colab": {
          "base_uri": "https://localhost:8080/",
          "height": 86
        }
      },
      "source": [
        "model.compile(loss='categorical_crossentropy',\n",
        "             optimizer='adam',\n",
        "             metrics=['accuracy'])"
      ],
      "execution_count": 0,
      "outputs": [
        {
          "output_type": "stream",
          "text": [
            "WARNING:tensorflow:From /usr/local/lib/python3.6/dist-packages/keras/optimizers.py:793: The name tf.train.Optimizer is deprecated. Please use tf.compat.v1.train.Optimizer instead.\n",
            "\n",
            "WARNING:tensorflow:From /usr/local/lib/python3.6/dist-packages/keras/backend/tensorflow_backend.py:3576: The name tf.log is deprecated. Please use tf.math.log instead.\n",
            "\n"
          ],
          "name": "stdout"
        }
      ]
    },
    {
      "cell_type": "code",
      "metadata": {
        "id": "4xWoKhPY9Of5",
        "colab_type": "code",
        "outputId": "68cb32a6-678d-4403-ebac-302aebeafccc",
        "colab": {
          "base_uri": "https://localhost:8080/",
          "height": 766
        }
      },
      "source": [
        "history = model.fit(X_train, Y_train, validation_split=0.20, batch_size=32, nb_epoch=10, verbose=1)"
      ],
      "execution_count": 0,
      "outputs": [
        {
          "output_type": "stream",
          "text": [
            "/usr/local/lib/python3.6/dist-packages/ipykernel_launcher.py:1: UserWarning: The `nb_epoch` argument in `fit` has been renamed `epochs`.\n",
            "  \"\"\"Entry point for launching an IPython kernel.\n"
          ],
          "name": "stderr"
        },
        {
          "output_type": "stream",
          "text": [
            "WARNING:tensorflow:From /usr/local/lib/python3.6/dist-packages/tensorflow_core/python/ops/math_grad.py:1424: where (from tensorflow.python.ops.array_ops) is deprecated and will be removed in a future version.\n",
            "Instructions for updating:\n",
            "Use tf.where in 2.0, which has the same broadcast rule as np.where\n",
            "WARNING:tensorflow:From /usr/local/lib/python3.6/dist-packages/keras/backend/tensorflow_backend.py:1033: The name tf.assign_add is deprecated. Please use tf.compat.v1.assign_add instead.\n",
            "\n",
            "WARNING:tensorflow:From /usr/local/lib/python3.6/dist-packages/keras/backend/tensorflow_backend.py:1020: The name tf.assign is deprecated. Please use tf.compat.v1.assign instead.\n",
            "\n",
            "WARNING:tensorflow:From /usr/local/lib/python3.6/dist-packages/keras/backend/tensorflow_backend.py:3005: The name tf.Session is deprecated. Please use tf.compat.v1.Session instead.\n",
            "\n",
            "Train on 40199 samples, validate on 19801 samples\n",
            "Epoch 1/10\n",
            "WARNING:tensorflow:From /usr/local/lib/python3.6/dist-packages/keras/backend/tensorflow_backend.py:190: The name tf.get_default_session is deprecated. Please use tf.compat.v1.get_default_session instead.\n",
            "\n",
            "WARNING:tensorflow:From /usr/local/lib/python3.6/dist-packages/keras/backend/tensorflow_backend.py:197: The name tf.ConfigProto is deprecated. Please use tf.compat.v1.ConfigProto instead.\n",
            "\n",
            "WARNING:tensorflow:From /usr/local/lib/python3.6/dist-packages/keras/backend/tensorflow_backend.py:207: The name tf.global_variables is deprecated. Please use tf.compat.v1.global_variables instead.\n",
            "\n",
            "WARNING:tensorflow:From /usr/local/lib/python3.6/dist-packages/keras/backend/tensorflow_backend.py:216: The name tf.is_variable_initialized is deprecated. Please use tf.compat.v1.is_variable_initialized instead.\n",
            "\n",
            "WARNING:tensorflow:From /usr/local/lib/python3.6/dist-packages/keras/backend/tensorflow_backend.py:223: The name tf.variables_initializer is deprecated. Please use tf.compat.v1.variables_initializer instead.\n",
            "\n",
            "40199/40199 [==============================] - 18s 438us/step - loss: 0.2653 - acc: 0.9168 - val_loss: 0.1246 - val_acc: 0.9628\n",
            "Epoch 2/10\n",
            "40199/40199 [==============================] - 15s 375us/step - loss: 0.0868 - acc: 0.9736 - val_loss: 0.0786 - val_acc: 0.9769\n",
            "Epoch 3/10\n",
            "40199/40199 [==============================] - 15s 378us/step - loss: 0.0643 - acc: 0.9809 - val_loss: 0.0751 - val_acc: 0.9778\n",
            "Epoch 4/10\n",
            "40199/40199 [==============================] - 16s 404us/step - loss: 0.0527 - acc: 0.9838 - val_loss: 0.0562 - val_acc: 0.9826\n",
            "Epoch 5/10\n",
            "40199/40199 [==============================] - 16s 404us/step - loss: 0.0443 - acc: 0.9867 - val_loss: 0.0709 - val_acc: 0.9779\n",
            "Epoch 6/10\n",
            "40199/40199 [==============================] - 16s 405us/step - loss: 0.0395 - acc: 0.9875 - val_loss: 0.0607 - val_acc: 0.9820\n",
            "Epoch 7/10\n",
            "40199/40199 [==============================] - 16s 406us/step - loss: 0.0339 - acc: 0.9898 - val_loss: 0.0601 - val_acc: 0.9833\n",
            "Epoch 8/10\n",
            "40199/40199 [==============================] - 16s 401us/step - loss: 0.0281 - acc: 0.9913 - val_loss: 0.0537 - val_acc: 0.9846\n",
            "Epoch 9/10\n",
            "40199/40199 [==============================] - 16s 404us/step - loss: 0.0255 - acc: 0.9916 - val_loss: 0.0562 - val_acc: 0.9856\n",
            "Epoch 10/10\n",
            "40199/40199 [==============================] - 16s 402us/step - loss: 0.0222 - acc: 0.9925 - val_loss: 0.0571 - val_acc: 0.9844\n"
          ],
          "name": "stdout"
        }
      ]
    },
    {
      "cell_type": "code",
      "metadata": {
        "id": "AtsH-lLk-eLb",
        "colab_type": "code",
        "colab": {}
      },
      "source": [
        "train_score = model.evaluate(X_train, Y_train, verbose=0)\n",
        "test_score = model.evaluate(X_test, Y_test, verbose=0)"
      ],
      "execution_count": 0,
      "outputs": []
    },
    {
      "cell_type": "code",
      "metadata": {
        "id": "mkX8JMv79q9r",
        "colab_type": "code",
        "outputId": "8a69515b-93c4-4145-94f0-4b4e807aa0b8",
        "colab": {
          "base_uri": "https://localhost:8080/",
          "height": 34
        }
      },
      "source": [
        "print('Train: %.3f, Test: %.3f' % (train_score[1], test_score[1]))"
      ],
      "execution_count": 0,
      "outputs": [
        {
          "output_type": "stream",
          "text": [
            "Train: 0.991, Test: 0.987\n"
          ],
          "name": "stdout"
        }
      ]
    },
    {
      "cell_type": "markdown",
      "metadata": {
        "id": "q6LEUqqbackN",
        "colab_type": "text"
      },
      "source": [
        "## plot history\n"
      ]
    },
    {
      "cell_type": "code",
      "metadata": {
        "id": "M0EMIOO-aiwO",
        "colab_type": "code",
        "outputId": "8c46a2ae-2d57-4978-9cdb-23adddae3736",
        "colab": {
          "base_uri": "https://localhost:8080/",
          "height": 564
        }
      },
      "source": [
        "print(history.history.keys())\n",
        "# summarize history for accuracy\n",
        "pyplot.plot(history.history['acc'], label='train')\n",
        "pyplot.plot(history.history['val_acc'], label='test')\n",
        "pyplot.title('model accuracy/loss')\n",
        "pyplot.legend()\n",
        "pyplot.show()\n",
        "\n",
        "# summarize history for loss\n",
        "pyplot.plot(history.history['loss'])\n",
        "pyplot.plot(history.history['val_loss'])\n",
        "pyplot.ylabel('loss')\n",
        "pyplot.xlabel('epoch')\n",
        "pyplot.legend(['train', 'test'], loc='upper left')\n",
        "pyplot.show()"
      ],
      "execution_count": 0,
      "outputs": [
        {
          "output_type": "stream",
          "text": [
            "dict_keys(['val_loss', 'val_acc', 'loss', 'acc'])\n"
          ],
          "name": "stdout"
        },
        {
          "output_type": "display_data",
          "data": {
            "image/png": "[encoded data removed]",
            "text/plain": [
              "<Figure size 432x288 with 1 Axes>"
            ]
          },
          "metadata": {
            "tags": []
          }
        },
        {
          "output_type": "display_data",
          "data": {
            "image/png": "[encoded data removed]",
            "text/plain": [
              "<Figure size 432x288 with 1 Axes>"
            ]
          },
          "metadata": {
            "tags": []
          }
        }
      ]
    },
    {
      "cell_type": "code",
      "metadata": {
        "id": "OCWoJkwE9suh",
        "colab_type": "code",
        "colab": {}
      },
      "source": [
        "y_pred = model.predict(X_test)"
      ],
      "execution_count": 0,
      "outputs": []
    },
    {
      "cell_type": "code",
      "metadata": {
        "id": "Ym7iCFBm9uBs",
        "colab_type": "code",
        "outputId": "85165a98-2f0a-4e06-9044-940687211c74",
        "colab": {
          "base_uri": "https://localhost:8080/",
          "height": 503
        }
      },
      "source": [
        "print(y_pred[:9])\n",
        "print(y_test[:9])"
      ],
      "execution_count": 0,
      "outputs": [
        {
          "output_type": "stream",
          "text": [
            "[[1.11906458e-12 8.63741023e-12 2.37786391e-09 1.92722638e-08\n",
            "  1.76522693e-15 7.36471060e-16 4.07137172e-23 1.00000000e+00\n",
            "  7.77853736e-12 2.47193643e-09]\n",
            " [1.67433200e-06 1.10004785e-05 9.99984980e-01 5.12080760e-08\n",
            "  1.07906705e-13 2.28204417e-11 1.52600649e-06 4.26238732e-11\n",
            "  8.55837413e-07 7.18175045e-14]\n",
            " [4.44388658e-11 9.99997854e-01 4.54995153e-09 1.19261045e-09\n",
            "  1.35384209e-06 9.58420496e-11 4.75817663e-10 3.76026577e-07\n",
            "  3.89472461e-07 6.28835650e-10]\n",
            " [9.99609768e-01 6.99468479e-16 2.79292656e-09 5.04020436e-13\n",
            "  1.03436784e-13 4.17095203e-09 3.90216970e-04 1.23203184e-11\n",
            "  2.34245157e-09 3.02609778e-11]\n",
            " [6.82285066e-13 1.04426247e-13 4.54693644e-11 1.43689862e-16\n",
            "  9.99999762e-01 1.53505572e-13 2.35174536e-11 4.59247113e-10\n",
            "  3.78322824e-11 1.81015309e-07]\n",
            " [2.82039142e-10 9.99996543e-01 2.37023023e-09 2.21847637e-10\n",
            "  6.72570536e-07 6.90960364e-13 1.08821424e-11 1.66103473e-06\n",
            "  1.02537069e-06 6.42492282e-10]\n",
            " [1.43831462e-16 9.97699701e-11 1.35313616e-09 1.48028122e-14\n",
            "  9.99905109e-01 6.63258248e-09 7.28775205e-15 5.85299027e-08\n",
            "  9.68830136e-06 8.51865479e-05]\n",
            " [6.00756085e-15 4.62107774e-09 2.04604405e-08 3.37020367e-07\n",
            "  8.03264993e-06 4.88532464e-07 1.55678866e-12 2.35161721e-07\n",
            "  9.72707785e-05 9.99893665e-01]\n",
            " [3.28261196e-10 7.18672135e-18 2.42315976e-12 9.87948438e-12\n",
            "  1.98652079e-14 9.99954343e-01 2.48920605e-05 2.38299094e-12\n",
            "  2.07120738e-05 5.24021881e-10]]\n",
            "[7 2 1 0 4 1 4 9 5]\n"
          ],
          "name": "stdout"
        }
      ]
    },
    {
      "cell_type": "code",
      "metadata": {
        "id": "CT--y98_dr2T",
        "colab_type": "code",
        "outputId": "838f9e6e-8fbe-4bc4-fda1-c66f1e61ac57",
        "colab": {
          "base_uri": "https://localhost:8080/",
          "height": 173
        }
      },
      "source": [
        "layer_dict = dict([(layer.name, layer) for layer in model.layers])\n",
        "for layers in layer_dict:\n",
        "  print(layers)"
      ],
      "execution_count": 0,
      "outputs": [
        {
          "output_type": "stream",
          "text": [
            "conv2d_1\n",
            "conv2d_2\n",
            "max_pooling2d_1\n",
            "conv2d_3\n",
            "conv2d_4\n",
            "max_pooling2d_2\n",
            "conv2d_5\n",
            "flatten_1\n",
            "activation_1\n"
          ],
          "name": "stdout"
        }
      ]
    },
    {
      "cell_type": "code",
      "metadata": {
        "id": "2GY4Upv4dsUR",
        "colab_type": "code",
        "outputId": "74e7aaf4-3422-4fb0-bb4d-073c476ff32a",
        "colab": {
          "base_uri": "https://localhost:8080/",
          "height": 758
        }
      },
      "source": [
        "# code from Kaggle competition ;)\n",
        "\n",
        "import numpy as np\n",
        "from matplotlib import pyplot as plt\n",
        "from keras import backend as K\n",
        "%matplotlib inline\n",
        "# util function to convert a tensor into a valid image\n",
        "def deprocess_image(x):\n",
        "    # normalize tensor: center on 0., ensure std is 0.1\n",
        "    x -= x.mean()\n",
        "    x /= (x.std() + 1e-5)\n",
        "    x *= 0.1\n",
        "\n",
        "    # clip to [0, 1]\n",
        "    x += 0.5\n",
        "    x = np.clip(x, 0, 1)\n",
        "\n",
        "    # convert to RGB array\n",
        "    x *= 255\n",
        "    #x = x.transpose((1, 2, 0))\n",
        "    x = np.clip(x, 0, 255).astype('uint8')\n",
        "    return x\n",
        "\n",
        "def vis_img_in_filter(img = np.array(X_train[2]).reshape((1, 28, 28, 1)).astype(np.float64), \n",
        "                      layer_name = 'conv2d_4'):\n",
        "    layer_output = layer_dict[layer_name].output\n",
        "    img_ascs = list()\n",
        "    for filter_index in range(layer_output.shape[3]):\n",
        "        # build a loss function that maximizes the activation\n",
        "        # of the nth filter of the layer considered\n",
        "        loss = K.mean(layer_output[:, :, :, filter_index])\n",
        "        \n",
        "        # compute the gradient of the input picture wrt this loss\n",
        "        grads = K.gradients(loss, model.input)[0]\n",
        "\n",
        "        # normalization trick: we normalize the gradient\n",
        "        grads /= (K.sqrt(K.mean(K.square(grads))) + 1e-5)\n",
        "\n",
        "        # this function returns the loss and grads given the input picture\n",
        "        iterate = K.function([model.input], [loss, grads])\n",
        "\n",
        "        # step size for gradient ascent\n",
        "        step = 5.\n",
        "\n",
        "        img_asc = np.array(img)\n",
        "        # run gradient ascent for 20 steps\n",
        "        for i in range(20):\n",
        "            loss_value, grads_value = iterate([img_asc])\n",
        "            img_asc += grads_value * step\n",
        "\n",
        "        img_asc = img_asc[0]\n",
        "        img_ascs.append(deprocess_image(img_asc).reshape((28, 28)))\n",
        "    print(layer_output.shape[3])    \n",
        "    if layer_output.shape[3] >= 35:\n",
        "        plot_x, plot_y = 6, 6\n",
        "    elif layer_output.shape[3] >= 23:\n",
        "        plot_x, plot_y = 4, 6\n",
        "    elif layer_output.shape[3] >= 11:\n",
        "        plot_x, plot_y = 2, 6\n",
        "    else:\n",
        "        plot_x, plot_y = 1, 2\n",
        "    fig, ax = plt.subplots(plot_x, plot_y, figsize = (12, 12))\n",
        "    ax[0, 0].imshow(img.reshape((28, 28)), cmap = 'gray')\n",
        "    ax[0, 0].set_title('Input image')\n",
        "    fig.suptitle('Input image and %s filters' % (layer_name,))\n",
        "    fig.tight_layout(pad = 0.3, rect = [0, 0, 0.9, 0.9])\n",
        "    for (x, y) in [(i, j) for i in range(plot_x) for j in range(plot_y)]:\n",
        "        if x == 0 and y == 0:\n",
        "            continue\n",
        "        ax[x, y].imshow(img_ascs[x * plot_y + y - 1], cmap = 'gray')\n",
        "        ax[x, y].set_title('filter %d' % (x * plot_y + y - 1))\n",
        "\n",
        "vis_img_in_filter()"
      ],
      "execution_count": 0,
      "outputs": [
        {
          "output_type": "stream",
          "text": [
            "16\n"
          ],
          "name": "stdout"
        },
        {
          "output_type": "display_data",
          "data": {
            "image/png": "[encoded data removed]",
            "text/plain": [
              "<Figure size 864x864 with 12 Axes>"
            ]
          },
          "metadata": {
            "tags": []
          }
        }
      ]
    },
    {
      "cell_type": "markdown",
      "metadata": {
        "id": "puW_TMs5Tvrt",
        "colab_type": "text"
      },
      "source": [
        "Simply use `model.predict_classes()` and compare the output with true labes. i.e:"
      ]
    },
    {
      "cell_type": "code",
      "metadata": {
        "id": "LGtwZIz8TsbQ",
        "colab_type": "code",
        "outputId": "e3cc7bff-8bb1-4c3d-c96a-d2ae41859335",
        "colab": {
          "base_uri": "https://localhost:8080/",
          "height": 930
        }
      },
      "source": [
        "incorrects = np.nonzero(model.predict_classes(X_test).reshape((-1,)) != y_test)\n",
        "print(incorrects)\n",
        "print('# Incorrects: ' , len(incorrects[0]))\n",
        "#print(incorrects[0])\n",
        "pyplot.subplots(10, 10, figsize = (12, 12))\n",
        "for i in range(len(incorrects[0])):\n",
        "  to_plot = incorrects[0][i]\n",
        "  pyplot.imshow(X_copy[to_plot])\n",
        "  #print(incorrects[0][i])\n",
        "pyplot.show()"
      ],
      "execution_count": 0,
      "outputs": [
        {
          "output_type": "stream",
          "text": [
            "(array([  62,  184,  320,  321,  324,  326,  340,  412,  435,  543,  582,\n",
            "        646,  659,  674,  684,  726,  740,  895,  947, 1014, 1039, 1062,\n",
            "       1182, 1191, 1226, 1232, 1242, 1247, 1260, 1335, 1337, 1393, 1441,\n",
            "       1464, 1522, 1570, 1621, 1709, 1782, 1878, 1899, 1901, 1955, 2035,\n",
            "       2053, 2070, 2109, 2130, 2135, 2168, 2189, 2293, 2387, 2406, 2454,\n",
            "       2462, 2597, 2654, 2720, 2834, 2896, 2927, 2939, 2995, 3005, 3129,\n",
            "       3166, 3239, 3337, 3503, 3520, 3662, 3702, 3762, 3767, 3806, 3808,\n",
            "       3871, 3906, 3985, 4126, 4176, 4201, 4205, 4207, 4248, 4265, 4289,\n",
            "       4350, 4360, 4384, 4477, 4497, 4536, 4639, 4731, 4761, 4807, 4874,\n",
            "       4880, 4886, 4956, 5937, 5981, 5997, 6004, 6028, 6359, 6505, 6555,\n",
            "       6558, 6571, 6576, 6597, 6625, 6651, 6851, 6906, 7049, 7430, 8059,\n",
            "       8069, 9634, 9642, 9679, 9692, 9698, 9729, 9811, 9839, 9904, 9982]),)\n",
            "# Incorrects:  132\n"
          ],
          "name": "stdout"
        },
        {
          "output_type": "display_data",
          "data": {
            "image/png": "[encoded data removed]",
            "text/plain": [
              "<Figure size 864x864 with 100 Axes>"
            ]
          },
          "metadata": {
            "tags": []
          }
        }
      ]
    },
    {
      "cell_type": "code",
      "metadata": {
        "id": "LogZpuh_i45X",
        "colab_type": "code",
        "outputId": "096c5874-4059-4015-a099-070f3debef87",
        "colab": {
          "base_uri": "https://localhost:8080/",
          "height": 269
        }
      },
      "source": [
        "for i in range(9):\n",
        "\t# define subplot\n",
        "  pyplot.subplot(330 + 1 + i)\n",
        "\t# plot raw pixel data\n",
        "  to_plot = incorrects[0][i]\n",
        "  pyplot.imshow(X_copy[to_plot])\n",
        "# show the figure\n",
        "pyplot.show()"
      ],
      "execution_count": 0,
      "outputs": [
        {
          "output_type": "display_data",
          "data": {
            "image/png": "[encoded data removed]",
            "text/plain": [
              "<Figure size 432x288 with 9 Axes>"
            ]
          },
          "metadata": {
            "tags": []
          }
        }
      ]
    },
    {
      "cell_type": "code",
      "metadata": {
        "id": "t3jI0-GINtod",
        "colab_type": "code",
        "colab": {}
      },
      "source": [
        "# draw misclassified image galery\n",
        "misclass_len = len(incorrects[0])\n",
        "print(misclass_len)    \n",
        "if misclass_len >= 35:\n",
        "    plot_x, plot_y = 6, 6\n",
        "elif misclass_len >= 23:\n",
        "    plot_x, plot_y = 4, 6\n",
        "elif misclass_len >= 11:\n",
        "    plot_x, plot_y = 2, 6\n",
        "else:\n",
        "    plot_x, plot_y = 1, 2\n",
        "fig, ax = plt.subplots(plot_x, plot_y, figsize = (12, 12))\n",
        "ax[0, 0].imshow(img.reshape((28, 28)), cmap = 'gray')\n",
        "ax[0, 0].set_title('Input image')\n",
        "#fig.suptitle('Input image and %s filters' % (layer_name,))\n",
        "fig.tight_layout(pad = 0.3, rect = [0, 0, 0.9, 0.9])\n",
        "for (x, y) in [(i, j) for i in range(plot_x) for j in range(plot_y)]:\n",
        "    if x == 0 and y == 0:\n",
        "       continue\n",
        "    ax[x, y].imshow(img_ascs[x * plot_y + y - 1], cmap = 'gray')\n",
        "    plt.imshow(X_train[0])\n",
        "    ax[x, y].set_title('filter %d' % (x * plot_y + y - 1))"
      ],
      "execution_count": 0,
      "outputs": []
    },
    {
      "cell_type": "markdown",
      "metadata": {
        "id": "MIH3SFzNV6-Z",
        "colab_type": "text"
      },
      "source": [
        "# Create a Confusion Matrix\n",
        "You can use Tensorflow’s confusion matrix to create a confusion matrix."
      ]
    },
    {
      "cell_type": "code",
      "metadata": {
        "id": "tGf1W8lsWBDv",
        "colab_type": "code",
        "outputId": "d9c8f31e-70f8-4c22-941f-600285176378",
        "colab": {
          "base_uri": "https://localhost:8080/",
          "height": 460
        }
      },
      "source": [
        "y_pred=model.predict_classes(X_test)\n",
        "con_mat = confusion_matrix(y_test, y_pred)\n",
        "print(con_mat)\n",
        "pyplot.imshow(con_mat, cmap='binary')"
      ],
      "execution_count": 0,
      "outputs": [
        {
          "output_type": "stream",
          "text": [
            "[[ 969    0    0    0    0    1    7    1    2    0]\n",
            " [   0 1133    0    1    0    0    0    1    0    0]\n",
            " [   0    8 1011    2    0    0    3    5    3    0]\n",
            " [   0    0    2 1006    0    0    0    2    0    0]\n",
            " [   0    0    0    1  977    0    0    0    0    4]\n",
            " [   0    0    0   10    1  876    2    0    1    2]\n",
            " [   0    3    0    1    1    5  946    0    2    0]\n",
            " [   0    4    5    0    1    0    0 1016    1    1]\n",
            " [   2    0    9    4    1    0    2    2  946    8]\n",
            " [   1    3    0    0    5    5    1    3    3  988]]\n"
          ],
          "name": "stdout"
        },
        {
          "output_type": "execute_result",
          "data": {
            "text/plain": [
              "<matplotlib.image.AxesImage at 0x7f86dca4e5f8>"
            ]
          },
          "metadata": {
            "tags": []
          },
          "execution_count": 31
        },
        {
          "output_type": "display_data",
          "data": {
            "image/png": "[encoded data removed]",
            "text/plain": [
              "<Figure size 432x288 with 1 Axes>"
            ]
          },
          "metadata": {
            "tags": []
          }
        }
      ]
    },
    {
      "cell_type": "markdown",
      "metadata": {
        "id": "3l_Ntba3WGP6",
        "colab_type": "text"
      },
      "source": [
        "  Normalization Confusion Matrix to the interpretation of which class is being misclassified."
      ]
    },
    {
      "cell_type": "markdown",
      "metadata": {
        "id": "lijGJXHIWNkv",
        "colab_type": "text"
      },
      "source": [
        "The diagonal elements represent the number of points for which the predicted label is equal to the true label, while off-diagonal elements are those that are mislabeled by model.\n",
        "Using matplotlib to plot confusion matrix and Seaborn library to create a heatmap."
      ]
    },
    {
      "cell_type": "code",
      "metadata": {
        "id": "7djc3DluWRD-",
        "colab_type": "code",
        "outputId": "e58873f7-3cdd-4323-9909-2be114570660",
        "colab": {
          "base_uri": "https://localhost:8080/",
          "height": 599
        }
      },
      "source": [
        "figure = plt.figure(figsize=(8, 8))\n",
        "sns.heatmap(con_mat, annot=True,cmap=plt.cm.Blues)\n",
        "plt.tight_layout()\n",
        "plt.ylabel('True label')\n",
        "plt.xlabel('Predicted label')\n",
        "plt.show()"
      ],
      "execution_count": 0,
      "outputs": [
        {
          "output_type": "display_data",
          "data": {
            "image/png": "[encoded data removed]",
            "text/plain": [
              "<Figure size 576x576 with 2 Axes>"
            ]
          },
          "metadata": {
            "tags": []
          }
        }
      ]
    }
  ]
}