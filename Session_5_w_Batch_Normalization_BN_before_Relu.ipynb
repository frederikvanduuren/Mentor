{
  "nbformat": 4,
  "nbformat_minor": 0,
  "metadata": {
    "colab": {
      "name": "Session 5 w Batch Normalization BN before Relu.ipynb",
      "provenance": [],
      "collapsed_sections": [],
      "include_colab_link": true
    },
    "kernelspec": {
      "name": "python3",
      "display_name": "Python 3"
    },
    "accelerator": "GPU"
  },
  "cells": [
    {
      "cell_type": "markdown",
      "metadata": {
        "id": "view-in-github",
        "colab_type": "text"
      },
      "source": [
        "<a href=\"https://colab.research.google.com/github/frederikvanduuren/Mentor/blob/master/Session_5_w_Batch_Normalization_BN_before_Relu.ipynb\" target=\"_parent\"><img src=\"https://colab.research.google.com/assets/colab-badge.svg\" alt=\"Open In Colab\"/></a>"
      ]
    },
    {
      "cell_type": "markdown",
      "metadata": {
        "id": "aNyZv-Ec52ot",
        "colab_type": "text"
      },
      "source": [
        "# Session 5"
      ]
    },
    {
      "cell_type": "markdown",
      "metadata": {
        "id": "-Z8RT61CWois",
        "colab_type": "text"
      },
      "source": [
        "## Normalizations: it learns approx 3+% faster\n",
        "### Incorrects:  111"
      ]
    },
    {
      "cell_type": "markdown",
      "metadata": {
        "id": "d3U4qgjiWvP8",
        "colab_type": "text"
      },
      "source": [
        "### Accelerate Learning of Deep Neural Networks With Batch Normalization\n",
        "\n",
        "If the input layer is benefiting from it, why not do the same thing also for the values in the hidden layers, that are changing all the time, and get 10 times or more improvement in the training speed.\n",
        "\n",
        "\n",
        "\n"
      ]
    },
    {
      "cell_type": "code",
      "metadata": {
        "id": "3m3w1Cw49Zkt",
        "colab_type": "code",
        "outputId": "d0ed9d8f-092a-4897-8ffd-4437ccd3e802",
        "colab": {
          "base_uri": "https://localhost:8080/",
          "height": 34
        }
      },
      "source": [
        "# https://keras.io/\n",
        "#!pip install -q keras\n",
        "import keras"
      ],
      "execution_count": 0,
      "outputs": [
        {
          "output_type": "stream",
          "text": [
            "Using TensorFlow backend.\n"
          ],
          "name": "stderr"
        }
      ]
    },
    {
      "cell_type": "code",
      "metadata": {
        "id": "Eso6UHE080D4",
        "colab_type": "code",
        "colab": {}
      },
      "source": [
        "# import models/layers to be able to apply Convolution2D/MaxPooling2D/Flatten\n",
        "\n",
        "import numpy as np\n",
        "\n",
        "from keras.models import Sequential\n",
        "from keras.layers import Dense, Dropout, Activation, Flatten, Add\n",
        "from keras.layers import Convolution2D, MaxPooling2D, BatchNormalization\n",
        "from keras.utils import np_utils\n",
        "\n",
        "from keras.datasets import mnist\n",
        "import tensorflow as tf\n",
        "import seaborn as sns\n",
        "from matplotlib import pyplot"
      ],
      "execution_count": 0,
      "outputs": []
    },
    {
      "cell_type": "code",
      "metadata": {
        "id": "YFFGLKiRK2Jg",
        "colab_type": "code",
        "colab": {}
      },
      "source": [
        "%matplotlib inline\n",
        "from sklearn.metrics import confusion_matrix"
      ],
      "execution_count": 0,
      "outputs": []
    },
    {
      "cell_type": "markdown",
      "metadata": {
        "id": "zByEi95J86RD",
        "colab_type": "text"
      },
      "source": [
        "### Load pre-shuffled MNIST data into train and test sets"
      ]
    },
    {
      "cell_type": "code",
      "metadata": {
        "id": "7eRM0QWN83PV",
        "colab_type": "code",
        "colab": {}
      },
      "source": [
        "(X_train, y_train), (X_test, y_test) = mnist.load_data()\n",
        "X_copy = X_train"
      ],
      "execution_count": 0,
      "outputs": []
    },
    {
      "cell_type": "code",
      "metadata": {
        "id": "4a4Be72j8-ZC",
        "colab_type": "code",
        "outputId": "a12474fc-09a7-4625-ffba-e8ab4f4c9732",
        "colab": {
          "base_uri": "https://localhost:8080/",
          "height": 304
        }
      },
      "source": [
        "# training is consisting og 60k images of size 28x28 pixels\n",
        "print (X_train.shape)\n",
        "from matplotlib import pyplot as plt\n",
        "%matplotlib inline\n",
        "plt.imshow(X_train[62])"
      ],
      "execution_count": 0,
      "outputs": [
        {
          "output_type": "stream",
          "text": [
            "(60000, 28, 28)\n"
          ],
          "name": "stdout"
        },
        {
          "output_type": "execute_result",
          "data": {
            "text/plain": [
              "<matplotlib.image.AxesImage at 0x7fc2118e6d68>"
            ]
          },
          "metadata": {
            "tags": []
          },
          "execution_count": 5
        },
        {
          "output_type": "display_data",
          "data": {
            "image/png": "[encoded data removed]",
            "text/plain": [
              "<Figure size 432x288 with 1 Axes>"
            ]
          },
          "metadata": {
            "tags": []
          }
        }
      ]
    },
    {
      "cell_type": "code",
      "metadata": {
        "id": "dkmprriw9AnZ",
        "colab_type": "code",
        "colab": {}
      },
      "source": [
        "# transform our dataset from having shape (n, width, height) to (n, width, height, depth=1) for tensorflow, the format is (N,H,W,C)\n",
        "\n",
        "\n",
        "X_train = X_train.reshape(X_train.shape[0], 28, 28,1)\n",
        "X_test = X_test.reshape(X_test.shape[0], 28, 28,1)"
      ],
      "execution_count": 0,
      "outputs": []
    },
    {
      "cell_type": "code",
      "metadata": {
        "id": "X2m4YS4E9CRh",
        "colab_type": "code",
        "colab": {}
      },
      "source": [
        "# process the input data is to convert our data type to float32 and normalizing values between 0 and 1\n",
        "\n",
        "X_train = X_train.astype('float32')\n",
        "X_test = X_test.astype('float32')\n",
        "X_train /= 255\n",
        "X_test /= 255"
      ],
      "execution_count": 0,
      "outputs": []
    },
    {
      "cell_type": "code",
      "metadata": {
        "id": "0Mn0vAYD9DvB",
        "colab_type": "code",
        "outputId": "a95e7749-678b-49bd-fe78-2c353a45f24b",
        "colab": {
          "base_uri": "https://localhost:8080/",
          "height": 52
        }
      },
      "source": [
        "# is new shape (60000,28,28,1)\n",
        "print (X_train.shape)\n",
        "# the first 10 training target values\n",
        "y_train[:10]"
      ],
      "execution_count": 0,
      "outputs": [
        {
          "output_type": "stream",
          "text": [
            "(60000, 28, 28, 1)\n"
          ],
          "name": "stdout"
        },
        {
          "output_type": "execute_result",
          "data": {
            "text/plain": [
              "array([5, 0, 4, 1, 9, 2, 1, 3, 1, 4], dtype=uint8)"
            ]
          },
          "metadata": {
            "tags": []
          },
          "execution_count": 8
        }
      ]
    },
    {
      "cell_type": "code",
      "metadata": {
        "id": "ZG8JiXR39FHC",
        "colab_type": "code",
        "colab": {}
      },
      "source": [
        "# Convert 1-dimensional class arrays to 10-dimensional class matrices\n",
        "# 0 = [1, 0, 0, 0, 0, 0, 0, 0, 0, 0] 1 = [0, 1, 0, 0, 0, 0, 0, 0, 0, 0] 2 = [0, 0, 1, 0, 0, 0, 0, 0, 0, 0] ... 9 = [0, 0, 0, 0, 0, 0, 0, 0, 0, 1]\n",
        "\n",
        "Y_train = np_utils.to_categorical(y_train, 10)\n",
        "Y_test = np_utils.to_categorical(y_test, 10)"
      ],
      "execution_count": 0,
      "outputs": []
    },
    {
      "cell_type": "code",
      "metadata": {
        "id": "fYlFRvKS9HMB",
        "colab_type": "code",
        "colab": {}
      },
      "source": [
        "#Y_train[:10]\n"
      ],
      "execution_count": 0,
      "outputs": []
    },
    {
      "cell_type": "code",
      "metadata": {
        "id": "aEtQBwUYbCyH",
        "colab_type": "code",
        "outputId": "e23c0ef2-6202-4fd2-bf2f-324a0e3d8c0f",
        "colab": {
          "base_uri": "https://localhost:8080/",
          "height": 1000
        }
      },
      "source": [
        "# Test 5 finding the max number of kernels staying below 15k params\n",
        "# 12k parameters\n",
        "# Also accuracy of 99.6%\n",
        "model = Sequential()\n",
        "\n",
        "# output_channels * (input_channels * window_size + 1) == number_parameters\n",
        " \n",
        "model.add(Convolution2D(128, 3, 3, activation='relu', input_shape=(28,28,1)))\n",
        "model.add(Convolution2D(16, 1))\n",
        "model.add(BatchNormalization())\n",
        "model.add(Activation('relu'))\n",
        "model.add(MaxPooling2D(pool_size = (2, 2)))\n",
        "model.add(Convolution2D(32, 3, 3, activation='relu', input_shape=(28,28,1))) \n",
        "model.add(Convolution2D(16, 1, activation='relu'))\n",
        "model.add(BatchNormalization())\n",
        "model.add(Activation('relu'))\n",
        "model.add(MaxPooling2D(pool_size = (2, 2)))\n",
        "model.add(Convolution2D(10, 5))\n",
        "model.add(Flatten())\n",
        "model.add(Activation('softmax'))\n",
        "model.summary()"
      ],
      "execution_count": 0,
      "outputs": [
        {
          "output_type": "stream",
          "text": [
            "WARNING:tensorflow:From /usr/local/lib/python3.6/dist-packages/keras/backend/tensorflow_backend.py:66: The name tf.get_default_graph is deprecated. Please use tf.compat.v1.get_default_graph instead.\n",
            "\n",
            "WARNING:tensorflow:From /usr/local/lib/python3.6/dist-packages/keras/backend/tensorflow_backend.py:541: The name tf.placeholder is deprecated. Please use tf.compat.v1.placeholder instead.\n",
            "\n",
            "WARNING:tensorflow:From /usr/local/lib/python3.6/dist-packages/keras/backend/tensorflow_backend.py:4432: The name tf.random_uniform is deprecated. Please use tf.random.uniform instead.\n",
            "\n",
            "WARNING:tensorflow:From /usr/local/lib/python3.6/dist-packages/keras/backend/tensorflow_backend.py:190: The name tf.get_default_session is deprecated. Please use tf.compat.v1.get_default_session instead.\n",
            "\n",
            "WARNING:tensorflow:From /usr/local/lib/python3.6/dist-packages/keras/backend/tensorflow_backend.py:197: The name tf.ConfigProto is deprecated. Please use tf.compat.v1.ConfigProto instead.\n",
            "\n",
            "WARNING:tensorflow:From /usr/local/lib/python3.6/dist-packages/keras/backend/tensorflow_backend.py:203: The name tf.Session is deprecated. Please use tf.compat.v1.Session instead.\n",
            "\n",
            "WARNING:tensorflow:From /usr/local/lib/python3.6/dist-packages/keras/backend/tensorflow_backend.py:207: The name tf.global_variables is deprecated. Please use tf.compat.v1.global_variables instead.\n",
            "\n",
            "WARNING:tensorflow:From /usr/local/lib/python3.6/dist-packages/keras/backend/tensorflow_backend.py:216: The name tf.is_variable_initialized is deprecated. Please use tf.compat.v1.is_variable_initialized instead.\n",
            "\n"
          ],
          "name": "stdout"
        },
        {
          "output_type": "stream",
          "text": [
            "/usr/local/lib/python3.6/dist-packages/ipykernel_launcher.py:5: UserWarning: Update your `Conv2D` call to the Keras 2 API: `Conv2D(128, (3, 3), activation=\"relu\", input_shape=(28, 28, 1...)`\n",
            "  \"\"\"\n"
          ],
          "name": "stderr"
        },
        {
          "output_type": "stream",
          "text": [
            "WARNING:tensorflow:From /usr/local/lib/python3.6/dist-packages/keras/backend/tensorflow_backend.py:223: The name tf.variables_initializer is deprecated. Please use tf.compat.v1.variables_initializer instead.\n",
            "\n",
            "WARNING:tensorflow:From /usr/local/lib/python3.6/dist-packages/keras/backend/tensorflow_backend.py:2041: The name tf.nn.fused_batch_norm is deprecated. Please use tf.compat.v1.nn.fused_batch_norm instead.\n",
            "\n",
            "WARNING:tensorflow:From /usr/local/lib/python3.6/dist-packages/keras/backend/tensorflow_backend.py:148: The name tf.placeholder_with_default is deprecated. Please use tf.compat.v1.placeholder_with_default instead.\n",
            "\n",
            "WARNING:tensorflow:From /usr/local/lib/python3.6/dist-packages/keras/backend/tensorflow_backend.py:4267: The name tf.nn.max_pool is deprecated. Please use tf.nn.max_pool2d instead.\n",
            "\n",
            "Model: \"sequential_1\"\n",
            "_________________________________________________________________\n",
            "Layer (type)                 Output Shape              Param #   \n",
            "=================================================================\n",
            "conv2d_1 (Conv2D)            (None, 26, 26, 128)       1280      \n",
            "_________________________________________________________________\n",
            "conv2d_2 (Conv2D)            (None, 26, 26, 16)        2064      \n",
            "_________________________________________________________________\n",
            "batch_normalization_1 (Batch (None, 26, 26, 16)        64        \n",
            "_________________________________________________________________\n",
            "activation_1 (Activation)    (None, 26, 26, 16)        0         \n",
            "_________________________________________________________________\n",
            "max_pooling2d_1 (MaxPooling2 (None, 13, 13, 16)        0         \n",
            "_________________________________________________________________\n",
            "conv2d_3 (Conv2D)            (None, 11, 11, 32)        4640      \n",
            "_________________________________________________________________\n",
            "conv2d_4 (Conv2D)            (None, 11, 11, 16)        528       \n",
            "_________________________________________________________________\n",
            "batch_normalization_2 (Batch (None, 11, 11, 16)        64        \n",
            "_________________________________________________________________\n",
            "activation_2 (Activation)    (None, 11, 11, 16)        0         \n",
            "_________________________________________________________________\n",
            "max_pooling2d_2 (MaxPooling2 (None, 5, 5, 16)          0         \n",
            "_________________________________________________________________\n",
            "conv2d_5 (Conv2D)            (None, 1, 1, 10)          4010      \n",
            "_________________________________________________________________\n",
            "flatten_1 (Flatten)          (None, 10)                0         \n",
            "_________________________________________________________________\n",
            "activation_3 (Activation)    (None, 10)                0         \n",
            "=================================================================\n",
            "Total params: 12,650\n",
            "Trainable params: 12,586\n",
            "Non-trainable params: 64\n",
            "_________________________________________________________________\n"
          ],
          "name": "stdout"
        },
        {
          "output_type": "stream",
          "text": [
            "/usr/local/lib/python3.6/dist-packages/ipykernel_launcher.py:10: UserWarning: Update your `Conv2D` call to the Keras 2 API: `Conv2D(32, (3, 3), activation=\"relu\", input_shape=(28, 28, 1...)`\n",
            "  # Remove the CWD from sys.path while we load stuff.\n"
          ],
          "name": "stderr"
        }
      ]
    },
    {
      "cell_type": "code",
      "metadata": {
        "id": "Zp6SuGrL9M3h",
        "colab_type": "code",
        "outputId": "d4545eaa-d5b7-4024-9dd3-2a78bbb38a9c",
        "colab": {
          "base_uri": "https://localhost:8080/",
          "height": 86
        }
      },
      "source": [
        "model.compile(loss='categorical_crossentropy',\n",
        "             optimizer='adam',\n",
        "             metrics=['accuracy'])"
      ],
      "execution_count": 0,
      "outputs": [
        {
          "output_type": "stream",
          "text": [
            "WARNING:tensorflow:From /usr/local/lib/python3.6/dist-packages/keras/optimizers.py:793: The name tf.train.Optimizer is deprecated. Please use tf.compat.v1.train.Optimizer instead.\n",
            "\n",
            "WARNING:tensorflow:From /usr/local/lib/python3.6/dist-packages/keras/backend/tensorflow_backend.py:3576: The name tf.log is deprecated. Please use tf.math.log instead.\n",
            "\n"
          ],
          "name": "stdout"
        }
      ]
    },
    {
      "cell_type": "code",
      "metadata": {
        "id": "4xWoKhPY9Of5",
        "colab_type": "code",
        "outputId": "3dcda4ab-e8bd-4a21-bf1d-17a24fd06518",
        "colab": {
          "base_uri": "https://localhost:8080/",
          "height": 1000
        }
      },
      "source": [
        "history = model.fit(X_train, Y_train, validation_split=0.20, batch_size=32, nb_epoch=40, verbose=1)"
      ],
      "execution_count": 0,
      "outputs": [
        {
          "output_type": "stream",
          "text": [
            "WARNING:tensorflow:From /usr/local/lib/python3.6/dist-packages/tensorflow_core/python/ops/math_grad.py:1424: where (from tensorflow.python.ops.array_ops) is deprecated and will be removed in a future version.\n",
            "Instructions for updating:\n",
            "Use tf.where in 2.0, which has the same broadcast rule as np.where\n"
          ],
          "name": "stdout"
        },
        {
          "output_type": "stream",
          "text": [
            "/usr/local/lib/python3.6/dist-packages/ipykernel_launcher.py:1: UserWarning: The `nb_epoch` argument in `fit` has been renamed `epochs`.\n",
            "  \"\"\"Entry point for launching an IPython kernel.\n"
          ],
          "name": "stderr"
        },
        {
          "output_type": "stream",
          "text": [
            "WARNING:tensorflow:From /usr/local/lib/python3.6/dist-packages/keras/backend/tensorflow_backend.py:1033: The name tf.assign_add is deprecated. Please use tf.compat.v1.assign_add instead.\n",
            "\n",
            "WARNING:tensorflow:From /usr/local/lib/python3.6/dist-packages/keras/backend/tensorflow_backend.py:1020: The name tf.assign is deprecated. Please use tf.compat.v1.assign instead.\n",
            "\n",
            "Train on 48000 samples, validate on 12000 samples\n",
            "Epoch 1/40\n",
            "48000/48000 [==============================] - 21s 442us/step - loss: 0.1691 - acc: 0.9492 - val_loss: 0.0803 - val_acc: 0.9747\n",
            "Epoch 2/40\n",
            "48000/48000 [==============================] - 20s 426us/step - loss: 0.0584 - acc: 0.9812 - val_loss: 0.0563 - val_acc: 0.9826\n",
            "Epoch 3/40\n",
            "48000/48000 [==============================] - 21s 439us/step - loss: 0.0463 - acc: 0.9856 - val_loss: 0.0707 - val_acc: 0.9778\n",
            "Epoch 4/40\n",
            "48000/48000 [==============================] - 20s 425us/step - loss: 0.0384 - acc: 0.9873 - val_loss: 0.0688 - val_acc: 0.9790\n",
            "Epoch 5/40\n",
            "48000/48000 [==============================] - 20s 427us/step - loss: 0.0322 - acc: 0.9893 - val_loss: 0.0457 - val_acc: 0.9867\n",
            "Epoch 6/40\n",
            "48000/48000 [==============================] - 21s 430us/step - loss: 0.0282 - acc: 0.9907 - val_loss: 0.0470 - val_acc: 0.9858\n",
            "Epoch 7/40\n",
            "48000/48000 [==============================] - 22s 467us/step - loss: 0.0237 - acc: 0.9921 - val_loss: 0.0432 - val_acc: 0.9865\n",
            "Epoch 8/40\n",
            "48000/48000 [==============================] - 22s 468us/step - loss: 0.0224 - acc: 0.9924 - val_loss: 0.0464 - val_acc: 0.9868\n",
            "Epoch 9/40\n",
            "48000/48000 [==============================] - 23s 471us/step - loss: 0.0186 - acc: 0.9935 - val_loss: 0.0488 - val_acc: 0.9874\n",
            "Epoch 10/40\n",
            "48000/48000 [==============================] - 23s 470us/step - loss: 0.0171 - acc: 0.9940 - val_loss: 0.0575 - val_acc: 0.9838\n",
            "Epoch 11/40\n",
            "48000/48000 [==============================] - 23s 475us/step - loss: 0.0153 - acc: 0.9949 - val_loss: 0.0585 - val_acc: 0.9845\n",
            "Epoch 12/40\n",
            "48000/48000 [==============================] - 23s 471us/step - loss: 0.0136 - acc: 0.9953 - val_loss: 0.0471 - val_acc: 0.9870\n",
            "Epoch 13/40\n",
            "48000/48000 [==============================] - 22s 454us/step - loss: 0.0133 - acc: 0.9954 - val_loss: 0.0513 - val_acc: 0.9866\n",
            "Epoch 14/40\n",
            "48000/48000 [==============================] - 21s 438us/step - loss: 0.0122 - acc: 0.9961 - val_loss: 0.0529 - val_acc: 0.9862\n",
            "Epoch 15/40\n",
            "48000/48000 [==============================] - 21s 432us/step - loss: 0.0106 - acc: 0.9961 - val_loss: 0.0530 - val_acc: 0.9866\n",
            "Epoch 16/40\n",
            "48000/48000 [==============================] - 21s 437us/step - loss: 0.0093 - acc: 0.9969 - val_loss: 0.0480 - val_acc: 0.9879\n",
            "Epoch 17/40\n",
            "48000/48000 [==============================] - 23s 469us/step - loss: 0.0098 - acc: 0.9964 - val_loss: 0.0525 - val_acc: 0.9883\n",
            "Epoch 18/40\n",
            "48000/48000 [==============================] - 22s 462us/step - loss: 0.0078 - acc: 0.9970 - val_loss: 0.0478 - val_acc: 0.9889\n",
            "Epoch 19/40\n",
            "48000/48000 [==============================] - 22s 455us/step - loss: 0.0093 - acc: 0.9968 - val_loss: 0.0534 - val_acc: 0.9872\n",
            "Epoch 20/40\n",
            "48000/48000 [==============================] - 21s 443us/step - loss: 0.0067 - acc: 0.9979 - val_loss: 0.0746 - val_acc: 0.9836\n",
            "Epoch 21/40\n",
            "48000/48000 [==============================] - 21s 440us/step - loss: 0.0072 - acc: 0.9976 - val_loss: 0.0564 - val_acc: 0.9889\n",
            "Epoch 22/40\n",
            "48000/48000 [==============================] - 21s 443us/step - loss: 0.0058 - acc: 0.9979 - val_loss: 0.0583 - val_acc: 0.9873\n",
            "Epoch 23/40\n",
            "48000/48000 [==============================] - 21s 440us/step - loss: 0.0062 - acc: 0.9976 - val_loss: 0.0605 - val_acc: 0.9873\n",
            "Epoch 24/40\n",
            "48000/48000 [==============================] - 21s 438us/step - loss: 0.0053 - acc: 0.9982 - val_loss: 0.0605 - val_acc: 0.9873\n",
            "Epoch 25/40\n",
            "48000/48000 [==============================] - 21s 442us/step - loss: 0.0054 - acc: 0.9982 - val_loss: 0.0556 - val_acc: 0.9878\n",
            "Epoch 26/40\n",
            "48000/48000 [==============================] - 21s 441us/step - loss: 0.0057 - acc: 0.9983 - val_loss: 0.0646 - val_acc: 0.9870\n",
            "Epoch 27/40\n",
            "48000/48000 [==============================] - 21s 435us/step - loss: 0.0049 - acc: 0.9982 - val_loss: 0.0620 - val_acc: 0.9882\n",
            "Epoch 28/40\n",
            "48000/48000 [==============================] - 20s 427us/step - loss: 0.0041 - acc: 0.9986 - val_loss: 0.0732 - val_acc: 0.9858\n",
            "Epoch 29/40\n",
            "48000/48000 [==============================] - 21s 427us/step - loss: 0.0049 - acc: 0.9982 - val_loss: 0.0586 - val_acc: 0.9884\n",
            "Epoch 30/40\n",
            "48000/48000 [==============================] - 20s 425us/step - loss: 0.0044 - acc: 0.9985 - val_loss: 0.0631 - val_acc: 0.9876\n",
            "Epoch 31/40\n",
            "48000/48000 [==============================] - 21s 433us/step - loss: 0.0045 - acc: 0.9983 - val_loss: 0.0614 - val_acc: 0.9888\n",
            "Epoch 32/40\n",
            "48000/48000 [==============================] - 21s 433us/step - loss: 0.0032 - acc: 0.9990 - val_loss: 0.0632 - val_acc: 0.9872\n",
            "Epoch 33/40\n",
            "48000/48000 [==============================] - 20s 423us/step - loss: 0.0055 - acc: 0.9978 - val_loss: 0.0681 - val_acc: 0.9877\n",
            "Epoch 34/40\n",
            "48000/48000 [==============================] - 21s 431us/step - loss: 0.0036 - acc: 0.9988 - val_loss: 0.0718 - val_acc: 0.9869\n",
            "Epoch 35/40\n",
            "48000/48000 [==============================] - 22s 457us/step - loss: 0.0038 - acc: 0.9986 - val_loss: 0.0632 - val_acc: 0.9879\n",
            "Epoch 36/40\n",
            "48000/48000 [==============================] - 22s 462us/step - loss: 0.0054 - acc: 0.9981 - val_loss: 0.0637 - val_acc: 0.9884\n",
            "Epoch 37/40\n",
            "48000/48000 [==============================] - 22s 464us/step - loss: 0.0029 - acc: 0.9991 - val_loss: 0.0654 - val_acc: 0.9892\n",
            "Epoch 38/40\n",
            "48000/48000 [==============================] - 22s 468us/step - loss: 0.0039 - acc: 0.9986 - val_loss: 0.0779 - val_acc: 0.9874\n",
            "Epoch 39/40\n",
            "48000/48000 [==============================] - 22s 467us/step - loss: 0.0040 - acc: 0.9986 - val_loss: 0.0768 - val_acc: 0.9872\n",
            "Epoch 40/40\n",
            "48000/48000 [==============================] - 22s 468us/step - loss: 0.0024 - acc: 0.9992 - val_loss: 0.0751 - val_acc: 0.9863\n"
          ],
          "name": "stdout"
        }
      ]
    },
    {
      "cell_type": "code",
      "metadata": {
        "id": "AtsH-lLk-eLb",
        "colab_type": "code",
        "colab": {}
      },
      "source": [
        "train_score = model.evaluate(X_train, Y_train, verbose=0)\n",
        "test_score = model.evaluate(X_test, Y_test, verbose=0)"
      ],
      "execution_count": 0,
      "outputs": []
    },
    {
      "cell_type": "code",
      "metadata": {
        "id": "mkX8JMv79q9r",
        "colab_type": "code",
        "outputId": "91b73a0c-4457-4a66-da8d-e2d91f7d8180",
        "colab": {
          "base_uri": "https://localhost:8080/",
          "height": 34
        }
      },
      "source": [
        "print('Train: %.3f, Test: %.3f' % (train_score[1], test_score[1]))"
      ],
      "execution_count": 0,
      "outputs": [
        {
          "output_type": "stream",
          "text": [
            "Train: 0.996, Test: 0.989\n"
          ],
          "name": "stdout"
        }
      ]
    },
    {
      "cell_type": "markdown",
      "metadata": {
        "id": "q6LEUqqbackN",
        "colab_type": "text"
      },
      "source": [
        "## plot history\n"
      ]
    },
    {
      "cell_type": "code",
      "metadata": {
        "id": "M0EMIOO-aiwO",
        "colab_type": "code",
        "outputId": "65d7171e-a7d1-44cb-c103-29b19e17f9a0",
        "colab": {
          "base_uri": "https://localhost:8080/",
          "height": 564
        }
      },
      "source": [
        "print(history.history.keys())\n",
        "# summarize history for accuracy\n",
        "pyplot.plot(history.history['acc'], label='train')\n",
        "pyplot.plot(history.history['val_acc'], label='test')\n",
        "pyplot.title('model accuracy/loss')\n",
        "pyplot.legend()\n",
        "pyplot.show()\n",
        "\n",
        "# summarize history for loss\n",
        "pyplot.plot(history.history['loss'])\n",
        "pyplot.plot(history.history['val_loss'])\n",
        "pyplot.ylabel('loss')\n",
        "pyplot.xlabel('epoch')\n",
        "pyplot.legend(['train', 'test'], loc='upper left')\n",
        "pyplot.show()"
      ],
      "execution_count": 0,
      "outputs": [
        {
          "output_type": "stream",
          "text": [
            "dict_keys(['val_loss', 'val_acc', 'loss', 'acc'])\n"
          ],
          "name": "stdout"
        },
        {
          "output_type": "display_data",
          "data": {
            "image/png": "[encoded data removed]",
            "text/plain": [
              "<Figure size 432x288 with 1 Axes>"
            ]
          },
          "metadata": {
            "tags": []
          }
        },
        {
          "output_type": "display_data",
          "data": {
            "image/png": "[encoded data removed]",
            "text/plain": [
              "<Figure size 432x288 with 1 Axes>"
            ]
          },
          "metadata": {
            "tags": []
          }
        }
      ]
    },
    {
      "cell_type": "code",
      "metadata": {
        "id": "OCWoJkwE9suh",
        "colab_type": "code",
        "colab": {}
      },
      "source": [
        "y_pred = model.predict(X_test)"
      ],
      "execution_count": 0,
      "outputs": []
    },
    {
      "cell_type": "code",
      "metadata": {
        "id": "Ym7iCFBm9uBs",
        "colab_type": "code",
        "outputId": "67705430-e14c-44dd-a1fe-77bd1682bc61",
        "colab": {
          "base_uri": "https://localhost:8080/",
          "height": 503
        }
      },
      "source": [
        "print(y_pred[:9])\n",
        "print(y_test[:9])"
      ],
      "execution_count": 0,
      "outputs": [
        {
          "output_type": "stream",
          "text": [
            "[[8.31838566e-17 1.41077734e-19 2.27073528e-13 7.87641877e-15\n",
            "  1.35826964e-26 9.04676793e-23 1.59136309e-32 1.00000000e+00\n",
            "  1.36373944e-22 1.60968193e-14]\n",
            " [2.65361906e-17 7.11222310e-15 1.00000000e+00 1.11425930e-20\n",
            "  2.52613229e-22 5.92795078e-37 4.14081916e-17 1.86109769e-22\n",
            "  1.69124718e-24 7.98997460e-27]\n",
            " [1.59343770e-13 1.00000000e+00 1.24355387e-12 1.02755792e-12\n",
            "  1.06668298e-12 4.95162505e-12 8.82592166e-10 3.98045430e-10\n",
            "  2.29396417e-13 4.08353610e-15]\n",
            " [1.00000000e+00 4.65641025e-25 1.64058198e-10 4.38091241e-22\n",
            "  7.69120854e-21 8.85324958e-18 2.63114175e-09 1.06966815e-15\n",
            "  1.50708694e-16 2.09797080e-15]\n",
            " [5.01299112e-17 1.59233063e-22 4.90922097e-20 7.75404770e-28\n",
            "  1.00000000e+00 5.20704894e-22 2.34874428e-17 2.14343353e-23\n",
            "  5.64246883e-19 5.68698526e-11]\n",
            " [2.34189594e-13 1.00000000e+00 2.45956125e-14 1.70347711e-14\n",
            "  2.36970144e-12 2.02461161e-18 1.72345916e-13 2.38309568e-08\n",
            "  1.02071272e-13 3.03555399e-14]\n",
            " [1.26798371e-20 3.19296417e-15 3.17656175e-16 1.72682460e-29\n",
            "  1.00000000e+00 1.28075145e-17 8.00882287e-22 2.47722887e-19\n",
            "  7.16282242e-12 1.47940904e-09]\n",
            " [4.69371985e-32 3.12252700e-20 2.86848379e-22 1.46209828e-20\n",
            "  8.02059140e-15 2.45099484e-26 3.41227697e-28 4.36624839e-29\n",
            "  2.34089625e-20 1.00000000e+00]\n",
            " [5.10311249e-13 1.41054841e-33 1.85072563e-17 1.60508872e-17\n",
            "  5.05457552e-15 9.99989748e-01 7.67683923e-06 3.30729367e-22\n",
            "  2.63954826e-06 9.86858595e-09]]\n",
            "[7 2 1 0 4 1 4 9 5]\n"
          ],
          "name": "stdout"
        }
      ]
    },
    {
      "cell_type": "code",
      "metadata": {
        "id": "CT--y98_dr2T",
        "colab_type": "code",
        "outputId": "8f055253-7cea-4a60-e05a-4f953683c355",
        "colab": {
          "base_uri": "https://localhost:8080/",
          "height": 243
        }
      },
      "source": [
        "layer_dict = dict([(layer.name, layer) for layer in model.layers])\n",
        "for layers in layer_dict:\n",
        "  print(layers)"
      ],
      "execution_count": 0,
      "outputs": [
        {
          "output_type": "stream",
          "text": [
            "conv2d_1\n",
            "conv2d_2\n",
            "batch_normalization_1\n",
            "activation_1\n",
            "max_pooling2d_1\n",
            "conv2d_3\n",
            "conv2d_4\n",
            "batch_normalization_2\n",
            "activation_2\n",
            "max_pooling2d_2\n",
            "conv2d_5\n",
            "flatten_1\n",
            "activation_3\n"
          ],
          "name": "stdout"
        }
      ]
    },
    {
      "cell_type": "code",
      "metadata": {
        "id": "2GY4Upv4dsUR",
        "colab_type": "code",
        "outputId": "d8c2b008-89db-40a0-a9ba-89edbcdb071b",
        "colab": {
          "base_uri": "https://localhost:8080/",
          "height": 758
        }
      },
      "source": [
        "# code from Kaggle competition ;)\n",
        "\n",
        "import numpy as np\n",
        "from matplotlib import pyplot as plt\n",
        "from keras import backend as K\n",
        "%matplotlib inline\n",
        "# util function to convert a tensor into a valid image\n",
        "def deprocess_image(x):\n",
        "    # normalize tensor: center on 0., ensure std is 0.1\n",
        "    x -= x.mean()\n",
        "    x /= (x.std() + 1e-5)\n",
        "    x *= 0.1\n",
        "\n",
        "    # clip to [0, 1]\n",
        "    x += 0.5\n",
        "    x = np.clip(x, 0, 1)\n",
        "\n",
        "    # convert to RGB array\n",
        "    x *= 255\n",
        "    #x = x.transpose((1, 2, 0))\n",
        "    x = np.clip(x, 0, 255).astype('uint8')\n",
        "    return x\n",
        "\n",
        "def vis_img_in_filter(img = np.array(X_train[2]).reshape((1, 28, 28, 1)).astype(np.float64), \n",
        "                      layer_name = 'conv2d_4'):\n",
        "    layer_output = layer_dict[layer_name].output\n",
        "    img_ascs = list()\n",
        "    for filter_index in range(layer_output.shape[3]):\n",
        "        # build a loss function that maximizes the activation\n",
        "        # of the nth filter of the layer considered\n",
        "        loss = K.mean(layer_output[:, :, :, filter_index])\n",
        "        \n",
        "        # compute the gradient of the input picture wrt this loss\n",
        "        grads = K.gradients(loss, model.input)[0]\n",
        "\n",
        "        # normalization trick: we normalize the gradient\n",
        "        grads /= (K.sqrt(K.mean(K.square(grads))) + 1e-5)\n",
        "\n",
        "        # this function returns the loss and grads given the input picture\n",
        "        iterate = K.function([model.input], [loss, grads])\n",
        "\n",
        "        # step size for gradient ascent\n",
        "        step = 5.\n",
        "\n",
        "        img_asc = np.array(img)\n",
        "        # run gradient ascent for 20 steps\n",
        "        for i in range(20):\n",
        "            loss_value, grads_value = iterate([img_asc])\n",
        "            img_asc += grads_value * step\n",
        "\n",
        "        img_asc = img_asc[0]\n",
        "        img_ascs.append(deprocess_image(img_asc).reshape((28, 28)))\n",
        "    print(layer_output.shape[3])    \n",
        "    if layer_output.shape[3] >= 35:\n",
        "        plot_x, plot_y = 6, 6\n",
        "    elif layer_output.shape[3] >= 23:\n",
        "        plot_x, plot_y = 4, 6\n",
        "    elif layer_output.shape[3] >= 11:\n",
        "        plot_x, plot_y = 2, 6\n",
        "    else:\n",
        "        plot_x, plot_y = 1, 2\n",
        "    fig, ax = plt.subplots(plot_x, plot_y, figsize = (12, 12))\n",
        "    ax[0, 0].imshow(img.reshape((28, 28)), cmap = 'gray')\n",
        "    ax[0, 0].set_title('Input image')\n",
        "    fig.suptitle('Input image and %s filters' % (layer_name,))\n",
        "    fig.tight_layout(pad = 0.3, rect = [0, 0, 0.9, 0.9])\n",
        "    for (x, y) in [(i, j) for i in range(plot_x) for j in range(plot_y)]:\n",
        "        if x == 0 and y == 0:\n",
        "            continue\n",
        "        ax[x, y].imshow(img_ascs[x * plot_y + y - 1], cmap = 'gray')\n",
        "        ax[x, y].set_title('filter %d' % (x * plot_y + y - 1))\n",
        "\n",
        "vis_img_in_filter()"
      ],
      "execution_count": 0,
      "outputs": [
        {
          "output_type": "stream",
          "text": [
            "16\n"
          ],
          "name": "stdout"
        },
        {
          "output_type": "display_data",
          "data": {
            "image/png": "[encoded data removed]",
            "text/plain": [
              "<Figure size 864x864 with 12 Axes>"
            ]
          },
          "metadata": {
            "tags": []
          }
        }
      ]
    },
    {
      "cell_type": "markdown",
      "metadata": {
        "id": "puW_TMs5Tvrt",
        "colab_type": "text"
      },
      "source": [
        "Simply use `model.predict_classes()` and compare the output with true labes. i.e:"
      ]
    },
    {
      "cell_type": "code",
      "metadata": {
        "id": "LGtwZIz8TsbQ",
        "colab_type": "code",
        "outputId": "c090bf40-6cb9-45c9-e1fe-ea43f3296c64",
        "colab": {
          "base_uri": "https://localhost:8080/",
          "height": 912
        }
      },
      "source": [
        "incorrects = np.nonzero(model.predict_classes(X_test).reshape((-1,)) != y_test)\n",
        "print(incorrects)\n",
        "print('# Incorrects: ' , len(incorrects[0]))\n",
        "#print(incorrects[0])\n",
        "pyplot.subplots(10, 10, figsize = (12, 12))\n",
        "for i in range(len(incorrects[0])):\n",
        "  to_plot = incorrects[0][i]\n",
        "  pyplot.imshow(X_copy[to_plot])\n",
        "  #print(incorrects[0][i])\n",
        "pyplot.show()"
      ],
      "execution_count": 0,
      "outputs": [
        {
          "output_type": "stream",
          "text": [
            "(array([ 175,  211,  290,  321,  340,  445,  449,  551,  583,  625,  646,\n",
            "        659,  726,  740,  761,  883,  947, 1014, 1039, 1182, 1232, 1247,\n",
            "       1260, 1299, 1393, 1414, 1530, 1681, 1686, 1709, 1737, 1773, 1878,\n",
            "       1883, 1901, 1903, 2035, 2130, 2135, 2182, 2195, 2514, 2560, 2654,\n",
            "       2686, 2695, 2896, 2927, 2938, 2970, 3005, 3012, 3060, 3073, 3100,\n",
            "       3109, 3289, 3337, 3422, 3520, 3600, 3601, 3727, 3749, 3762, 3808,\n",
            "       3941, 3951, 4007, 4163, 4176, 4205, 4224, 4248, 4256, 4359, 4504,\n",
            "       4507, 4536, 4571, 4731, 4783, 4956, 5449, 5678, 5801, 5937, 5981,\n",
            "       5997, 6569, 6576, 6597, 6625, 6651, 6755, 6783, 7971, 8095, 8160,\n",
            "       8256, 8408, 9587, 9638, 9664, 9679, 9692, 9698, 9729, 9839, 9904,\n",
            "       9982]),)\n",
            "# Incorrects:  111\n"
          ],
          "name": "stdout"
        },
        {
          "output_type": "display_data",
          "data": {
            "image/png": "[encoded data removed]",
            "text/plain": [
              "<Figure size 864x864 with 100 Axes>"
            ]
          },
          "metadata": {
            "tags": []
          }
        }
      ]
    },
    {
      "cell_type": "code",
      "metadata": {
        "id": "LogZpuh_i45X",
        "colab_type": "code",
        "outputId": "27e6782c-aeef-49ac-fea4-55404a7f30af",
        "colab": {
          "base_uri": "https://localhost:8080/",
          "height": 269
        }
      },
      "source": [
        "for i in range(9):\n",
        "\t# define subplot\n",
        "  pyplot.subplot(330 + 1 + i)\n",
        "\t# plot raw pixel data\n",
        "  to_plot = incorrects[0][i]\n",
        "  pyplot.imshow(X_copy[to_plot])\n",
        "# show the figure\n",
        "pyplot.show()"
      ],
      "execution_count": 0,
      "outputs": [
        {
          "output_type": "display_data",
          "data": {
            "image/png": "[encoded data removed]",
            "text/plain": [
              "<Figure size 432x288 with 9 Axes>"
            ]
          },
          "metadata": {
            "tags": []
          }
        }
      ]
    },
    {
      "cell_type": "code",
      "metadata": {
        "id": "t3jI0-GINtod",
        "colab_type": "code",
        "outputId": "06afedf7-6931-47dd-91a7-91bcc09e16eb",
        "colab": {
          "base_uri": "https://localhost:8080/",
          "height": 939
        }
      },
      "source": [
        "# draw misclassified image galery\n",
        "misclass_len = len(incorrects[0])\n",
        "print(misclass_len)    \n",
        "if misclass_len >= 35:\n",
        "    plot_x, plot_y = 6, 6\n",
        "elif misclass_len >= 23:\n",
        "    plot_x, plot_y = 4, 6\n",
        "elif misclass_len >= 11:\n",
        "    plot_x, plot_y = 2, 6\n",
        "else:\n",
        "    plot_x, plot_y = 1, 2\n",
        "fig, ax = plt.subplots(plot_x, plot_y, figsize = (12, 12))\n",
        "ax[0, 0].imshow(img.reshape((28, 28)), cmap = 'gray')\n",
        "ax[0, 0].set_title('Input image')\n",
        "#fig.suptitle('Input image and %s filters' % (layer_name,))\n",
        "fig.tight_layout(pad = 0.3, rect = [0, 0, 0.9, 0.9])\n",
        "for (x, y) in [(i, j) for i in range(plot_x) for j in range(plot_y)]:\n",
        "    if x == 0 and y == 0:\n",
        "       continue\n",
        "    ax[x, y].imshow(img_ascs[x * plot_y + y - 1], cmap = 'gray')\n",
        "    plt.imshow(X_train[0])\n",
        "    ax[x, y].set_title('filter %d' % (x * plot_y + y - 1))"
      ],
      "execution_count": 0,
      "outputs": [
        {
          "output_type": "stream",
          "text": [
            "111\n"
          ],
          "name": "stdout"
        },
        {
          "output_type": "error",
          "ename": "NameError",
          "evalue": "ignored",
          "traceback": [
            "\u001b[0;31m---------------------------------------------------------------------------\u001b[0m",
            "\u001b[0;31mNameError\u001b[0m                                 Traceback (most recent call last)",
            "\u001b[0;32m<ipython-input-22-5c212c4de4b1>\u001b[0m in \u001b[0;36m<module>\u001b[0;34m()\u001b[0m\n\u001b[1;32m     10\u001b[0m     \u001b[0mplot_x\u001b[0m\u001b[0;34m,\u001b[0m \u001b[0mplot_y\u001b[0m \u001b[0;34m=\u001b[0m \u001b[0;36m1\u001b[0m\u001b[0;34m,\u001b[0m \u001b[0;36m2\u001b[0m\u001b[0;34m\u001b[0m\u001b[0;34m\u001b[0m\u001b[0m\n\u001b[1;32m     11\u001b[0m \u001b[0mfig\u001b[0m\u001b[0;34m,\u001b[0m \u001b[0max\u001b[0m \u001b[0;34m=\u001b[0m \u001b[0mplt\u001b[0m\u001b[0;34m.\u001b[0m\u001b[0msubplots\u001b[0m\u001b[0;34m(\u001b[0m\u001b[0mplot_x\u001b[0m\u001b[0;34m,\u001b[0m \u001b[0mplot_y\u001b[0m\u001b[0;34m,\u001b[0m \u001b[0mfigsize\u001b[0m \u001b[0;34m=\u001b[0m \u001b[0;34m(\u001b[0m\u001b[0;36m12\u001b[0m\u001b[0;34m,\u001b[0m \u001b[0;36m12\u001b[0m\u001b[0;34m)\u001b[0m\u001b[0;34m)\u001b[0m\u001b[0;34m\u001b[0m\u001b[0;34m\u001b[0m\u001b[0m\n\u001b[0;32m---> 12\u001b[0;31m \u001b[0max\u001b[0m\u001b[0;34m[\u001b[0m\u001b[0;36m0\u001b[0m\u001b[0;34m,\u001b[0m \u001b[0;36m0\u001b[0m\u001b[0;34m]\u001b[0m\u001b[0;34m.\u001b[0m\u001b[0mimshow\u001b[0m\u001b[0;34m(\u001b[0m\u001b[0mimg\u001b[0m\u001b[0;34m.\u001b[0m\u001b[0mreshape\u001b[0m\u001b[0;34m(\u001b[0m\u001b[0;34m(\u001b[0m\u001b[0;36m28\u001b[0m\u001b[0;34m,\u001b[0m \u001b[0;36m28\u001b[0m\u001b[0;34m)\u001b[0m\u001b[0;34m)\u001b[0m\u001b[0;34m,\u001b[0m \u001b[0mcmap\u001b[0m \u001b[0;34m=\u001b[0m \u001b[0;34m'gray'\u001b[0m\u001b[0;34m)\u001b[0m\u001b[0;34m\u001b[0m\u001b[0;34m\u001b[0m\u001b[0m\n\u001b[0m\u001b[1;32m     13\u001b[0m \u001b[0max\u001b[0m\u001b[0;34m[\u001b[0m\u001b[0;36m0\u001b[0m\u001b[0;34m,\u001b[0m \u001b[0;36m0\u001b[0m\u001b[0;34m]\u001b[0m\u001b[0;34m.\u001b[0m\u001b[0mset_title\u001b[0m\u001b[0;34m(\u001b[0m\u001b[0;34m'Input image'\u001b[0m\u001b[0;34m)\u001b[0m\u001b[0;34m\u001b[0m\u001b[0;34m\u001b[0m\u001b[0m\n\u001b[1;32m     14\u001b[0m \u001b[0;31m#fig.suptitle('Input image and %s filters' % (layer_name,))\u001b[0m\u001b[0;34m\u001b[0m\u001b[0;34m\u001b[0m\u001b[0;34m\u001b[0m\u001b[0m\n",
            "\u001b[0;31mNameError\u001b[0m: name 'img' is not defined"
          ]
        },
        {
          "output_type": "display_data",
          "data": {
            "image/png": "[encoded data removed]",
            "text/plain": [
              "<Figure size 864x864 with 36 Axes>"
            ]
          },
          "metadata": {
            "tags": []
          }
        }
      ]
    },
    {
      "cell_type": "markdown",
      "metadata": {
        "id": "MIH3SFzNV6-Z",
        "colab_type": "text"
      },
      "source": [
        "# Create a Confusion Matrix\n",
        "You can use Tensorflow’s confusion matrix to create a confusion matrix."
      ]
    },
    {
      "cell_type": "code",
      "metadata": {
        "id": "tGf1W8lsWBDv",
        "colab_type": "code",
        "colab": {}
      },
      "source": [
        "y_pred=model.predict_classes(X_test)\n",
        "con_mat = confusion_matrix(y_test, y_pred)\n",
        "print(con_mat)\n",
        "pyplot.imshow(con_mat, cmap='binary')"
      ],
      "execution_count": 0,
      "outputs": []
    },
    {
      "cell_type": "markdown",
      "metadata": {
        "id": "3l_Ntba3WGP6",
        "colab_type": "text"
      },
      "source": [
        "  Normalization Confusion Matrix to the interpretation of which class is being misclassified."
      ]
    },
    {
      "cell_type": "markdown",
      "metadata": {
        "id": "lijGJXHIWNkv",
        "colab_type": "text"
      },
      "source": [
        "The diagonal elements represent the number of points for which the predicted label is equal to the true label, while off-diagonal elements are those that are mislabeled by model.\n",
        "Using matplotlib to plot confusion matrix and Seaborn library to create a heatmap."
      ]
    },
    {
      "cell_type": "code",
      "metadata": {
        "id": "7djc3DluWRD-",
        "colab_type": "code",
        "colab": {}
      },
      "source": [
        "figure = plt.figure(figsize=(8, 8))\n",
        "sns.heatmap(con_mat, annot=True,cmap=plt.cm.Blues)\n",
        "plt.tight_layout()\n",
        "plt.ylabel('True label')\n",
        "plt.xlabel('Predicted label')\n",
        "plt.show()"
      ],
      "execution_count": 0,
      "outputs": []
    }
  ]
}