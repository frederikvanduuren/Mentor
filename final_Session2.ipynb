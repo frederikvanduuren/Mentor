{
  "nbformat": 4,
  "nbformat_minor": 0,
  "metadata": {
    "colab": {
      "name": "final Session2.ipynb",
      "provenance": [],
      "collapsed_sections": [],
      "toc_visible": true,
      "include_colab_link": true
    },
    "kernelspec": {
      "name": "python3",
      "display_name": "Python 3"
    },
    "accelerator": "GPU"
  },
  "cells": [
    {
      "cell_type": "markdown",
      "metadata": {
        "id": "view-in-github",
        "colab_type": "text"
      },
      "source": [
        "<a href=\"https://colab.research.google.com/github/frederikvanduuren/Mentor-Sessions-1-10/blob/master/final_Session2.ipynb\" target=\"_parent\"><img src=\"https://colab.research.google.com/assets/colab-badge.svg\" alt=\"Open In Colab\"/></a>"
      ]
    },
    {
      "cell_type": "markdown",
      "metadata": {
        "id": "-nJ7YEw_vyjG",
        "colab_type": "text"
      },
      "source": [
        "## **Not an ideal network**"
      ]
    },
    {
      "cell_type": "markdown",
      "metadata": {
        "id": "ycfDPsxiwUKx",
        "colab_type": "text"
      },
      "source": [
        "install and import keras using tensorflow backend\n",
        "\n"
      ]
    },
    {
      "cell_type": "code",
      "metadata": {
        "id": "kGWv5hBhv2jf",
        "colab_type": "code",
        "outputId": "946e0f4c-9d53-4e8b-9da8-1f89e5267808",
        "colab": {
          "base_uri": "https://localhost:8080/",
          "height": 34
        }
      },
      "source": [
        "# https://keras.io/\n",
        "!pip install -q keras\n",
        "import keras"
      ],
      "execution_count": 0,
      "outputs": [
        {
          "output_type": "stream",
          "text": [
            "Using TensorFlow backend.\n"
          ],
          "name": "stderr"
        }
      ]
    },
    {
      "cell_type": "markdown",
      "metadata": {
        "id": "Qz5KM0-IwYhp",
        "colab_type": "text"
      },
      "source": [
        "import models/layers to be able to apply Convolution2D/Flatten"
      ]
    },
    {
      "cell_type": "code",
      "metadata": {
        "id": "wnMlDJQKv4VG",
        "colab_type": "code",
        "outputId": "6451754a-4d2d-4714-a3af-984813f32f96",
        "colab": {
          "base_uri": "https://localhost:8080/",
          "height": 34
        }
      },
      "source": [
        "import numpy as np\n",
        "\n",
        "from keras.models import Sequential\n",
        "from keras.layers import Flatten\n",
        "from keras.layers import Convolution2D\n",
        "from keras.utils import np_utils\n",
        "\n",
        "from keras.datasets import mnist"
      ],
      "execution_count": 0,
      "outputs": [
        {
          "output_type": "stream",
          "text": [
            "Using TensorFlow backend.\n"
          ],
          "name": "stderr"
        }
      ]
    },
    {
      "cell_type": "markdown",
      "metadata": {
        "id": "3oAVUvc5XjTM",
        "colab_type": "text"
      },
      "source": [
        "loading the MNIST dataset from keras-datasets\n",
        "\n"
      ]
    },
    {
      "cell_type": "code",
      "metadata": {
        "id": "8CdSu2lMwB9s",
        "colab_type": "code",
        "outputId": "be403c12-d443-4ee4-d160-543722e41ad0",
        "colab": {
          "base_uri": "https://localhost:8080/",
          "height": 52
        }
      },
      "source": [
        "(X_train, y_train), (X_test, y_test) = mnist.load_data()"
      ],
      "execution_count": 0,
      "outputs": [
        {
          "output_type": "stream",
          "text": [
            "Downloading data from https://s3.amazonaws.com/img-datasets/mnist.npz\n",
            "11493376/11490434 [==============================] - 2s 0us/step\n"
          ],
          "name": "stdout"
        }
      ]
    },
    {
      "cell_type": "markdown",
      "metadata": {
        "id": "QloshLH9XqvG",
        "colab_type": "text"
      },
      "source": [
        "Lets visualize some samples... subplot in gray"
      ]
    },
    {
      "cell_type": "code",
      "metadata": {
        "id": "tLaDf0-rwCmj",
        "colab_type": "code",
        "outputId": "44155c43-8aff-4fd4-c022-37e5852a8bc6",
        "colab": {
          "base_uri": "https://localhost:8080/",
          "height": 301
        }
      },
      "source": [
        "print (X_train.shape)\n",
        "#from matplotlib import pyplot as plt\n",
        "#%matplotlib inline\n",
        "#plt.imshow(X_train[0])\n",
        "# or\n",
        "import matplotlib.pyplot as plt\n",
        "import random\n",
        "fig = plt.figure() # Create a new figure\n",
        "for i in range(9): # draw 9 figures\n",
        "  plt.subplot(3,3,i+1) #subplot(nrows, ncols, index)\n",
        "  plt.tight_layout() # Automatically adjust subplot parameters to give tight padding\n",
        "  j = random.randint(1, X_train.shape[0]) # random image between 1 and 600000\n",
        "  plt.imshow(X_train[j], cmap='gray', interpolation='none') #display image in gray\n",
        "  plt.title(\"Digit: {} ({})\".format(y_train[j],j)) #set title above the image: value + index from random\n",
        "  plt.xticks([])\n",
        "  plt.yticks([])\n"
      ],
      "execution_count": 0,
      "outputs": [
        {
          "output_type": "stream",
          "text": [
            "(60000, 28, 28)\n"
          ],
          "name": "stdout"
        },
        {
          "output_type": "display_data",
          "data": {
            "image/png": "[encoded data removed]",
            "text/plain": [
              "<Figure size 432x288 with 9 Axes>"
            ]
          },
          "metadata": {
            "tags": []
          }
        }
      ]
    },
    {
      "cell_type": "markdown",
      "metadata": {
        "id": "JDKNpZWU3F44",
        "colab_type": "text"
      },
      "source": [
        "transform our dataset from having shape (n, width, height) to (n, width, height, depth=1)."
      ]
    },
    {
      "cell_type": "markdown",
      "metadata": {
        "id": "-YM9p87ZYSaR",
        "colab_type": "text"
      },
      "source": [
        "resizing the input images, For tensorflow, the format is (N,H,W,C)"
      ]
    },
    {
      "cell_type": "code",
      "metadata": {
        "id": "erb11jNwwFwl",
        "colab_type": "code",
        "colab": {}
      },
      "source": [
        "X_train = X_train.reshape(X_train.shape[0], 28, 28 ,1)\n",
        "X_test = X_test.reshape(X_test.shape[0], 28, 28 ,1)"
      ],
      "execution_count": 0,
      "outputs": []
    },
    {
      "cell_type": "markdown",
      "metadata": {
        "id": "VXv0_mR-YaS-",
        "colab_type": "text"
      },
      "source": [
        "process the input data is to convert our data type to float32 and normalizing values between 0 and 1\n"
      ]
    },
    {
      "cell_type": "code",
      "metadata": {
        "id": "RLK4YDoRwHet",
        "colab_type": "code",
        "colab": {}
      },
      "source": [
        "X_train = X_train.astype('float32')\n",
        "X_test = X_test.astype('float32')\n",
        "X_train /= 255\n",
        "X_test /= 255"
      ],
      "execution_count": 0,
      "outputs": []
    },
    {
      "cell_type": "code",
      "metadata": {
        "id": "JNKLOmhlwJQl",
        "colab_type": "code",
        "outputId": "d8471a75-6f63-49f3-cb38-99ff2826631d",
        "colab": {
          "base_uri": "https://localhost:8080/",
          "height": 69
        }
      },
      "source": [
        "print (y_train[:10])\n",
        "print (X_train.shape)\n",
        "print (y_train.shape)"
      ],
      "execution_count": 0,
      "outputs": [
        {
          "output_type": "stream",
          "text": [
            "[5 0 4 1 9 2 1 3 1 4]\n",
            "(60000, 28, 28, 1)\n",
            "(60000,)\n"
          ],
          "name": "stdout"
        }
      ]
    },
    {
      "cell_type": "markdown",
      "metadata": {
        "id": "ulKxe_8sWb9R",
        "colab_type": "text"
      },
      "source": [
        "converting into categorical formats:\n",
        "\n",
        "---\n",
        "\n",
        "0 = [1, 0, 0, 0, 0, 0, 0, 0, 0, 0]\n",
        "1 = [0, 1, 0, 0, 0, 0, 0, 0, 0, 0]\n",
        "2 = [0, 0, 1, 0, 0, 0, 0, 0, 0, 0]\n",
        "...\n",
        "9 = [0, 0, 0, 0, 0, 0, 0, 0, 0, 1]"
      ]
    },
    {
      "cell_type": "code",
      "metadata": {
        "id": "YusMJguiwKsM",
        "colab_type": "code",
        "outputId": "e18d7830-1a94-4c60-c2b3-378a0c62b48f",
        "colab": {
          "base_uri": "https://localhost:8080/",
          "height": 34
        }
      },
      "source": [
        "# Convert 1-dimensional class arrays to 10-dimensional class matrices\n",
        "Y_train = np_utils.to_categorical(y_train, 10)\n",
        "Y_test = np_utils.to_categorical(y_test, 10)\n",
        "print (Y_train.shape)"
      ],
      "execution_count": 0,
      "outputs": [
        {
          "output_type": "stream",
          "text": [
            "(60000, 10)\n"
          ],
          "name": "stdout"
        }
      ]
    },
    {
      "cell_type": "code",
      "metadata": {
        "id": "upxc99AswMW0",
        "colab_type": "code",
        "outputId": "4743bf8b-98ec-4b26-cf3d-6b04c03ad405",
        "colab": {
          "base_uri": "https://localhost:8080/",
          "height": 191
        }
      },
      "source": [
        "Y_train[:10]\n"
      ],
      "execution_count": 0,
      "outputs": [
        {
          "output_type": "execute_result",
          "data": {
            "text/plain": [
              "array([[0., 0., 0., 0., 0., 1., 0., 0., 0., 0.],\n",
              "       [1., 0., 0., 0., 0., 0., 0., 0., 0., 0.],\n",
              "       [0., 0., 0., 0., 1., 0., 0., 0., 0., 0.],\n",
              "       [0., 1., 0., 0., 0., 0., 0., 0., 0., 0.],\n",
              "       [0., 0., 0., 0., 0., 0., 0., 0., 0., 1.],\n",
              "       [0., 0., 1., 0., 0., 0., 0., 0., 0., 0.],\n",
              "       [0., 1., 0., 0., 0., 0., 0., 0., 0., 0.],\n",
              "       [0., 0., 0., 1., 0., 0., 0., 0., 0., 0.],\n",
              "       [0., 1., 0., 0., 0., 0., 0., 0., 0., 0.],\n",
              "       [0., 0., 0., 0., 1., 0., 0., 0., 0., 0.]], dtype=float32)"
            ]
          },
          "metadata": {
            "tags": []
          },
          "execution_count": 9
        }
      ]
    },
    {
      "cell_type": "code",
      "metadata": {
        "id": "irTVUE47wNwr",
        "colab_type": "code",
        "outputId": "f6e4384f-10e4-4491-c841-fc43d2652332",
        "colab": {
          "base_uri": "https://localhost:8080/",
          "height": 903
        }
      },
      "source": [
        "from keras.layers import Activation, MaxPooling2D\n",
        "\n",
        "model = Sequential() # init of a sequential model\n",
        "# Convolution2D(number of convolution filters, rows kernel, cols kernel)\n",
        "model.add(Convolution2D(32, 3, 3, activation='relu', input_shape=(28,28,1))) # ref  (width, height, depth) of each digit image\n",
        "print (\"output_channels * (input_channels * window_size + 1) == number_parameters\")\n",
        "# input 26x26x32\n",
        "print (\"Convolution2D(32, 3, 3) dim -> {}\".format(model.output_shape))\n",
        "model.add(Convolution2D(64, 3, 3, activation='relu'))\n",
        "# input 24x24x64\n",
        "print (\"Convolution2D(64, 3, 3) dim -> {}\".format(model.output_shape))\n",
        "model.add(Convolution2D(128, 3, 3, activation='relu'))\n",
        "print (\"Convolution2D(128, 3, 3) dim -> {}\".format(model.output_shape))\n",
        "# input 22x22x128\n",
        "model.add(MaxPooling2D(pool_size=(2, 2))) \n",
        "#reducing the number of parameters in our model by sliding a 2x2 pooling filter across the previous layer and taking the max of the 4 values in the 2x2 filter\n",
        "print (\"MaxPooling2D(2,2) dim -> {}\".format(model.output_shape))\n",
        "# input 11x11x128\n",
        "model.add(Convolution2D(256, 3, 3, activation='relu'))\n",
        "print (\"Convolution2D(256, 3, 3) dim -> {}\".format(model.output_shape))\n",
        "# input 9x9x256\n",
        "model.add(Convolution2D(512, 3, 3, activation='relu'))\n",
        "print (\"Convolution2D(512, 3, 3) dim -> {}\".format(model.output_shape))\n",
        "# input 7x7x512\n",
        "model.add(Convolution2D(1024, 3, 3, activation='relu'))\n",
        "print (\"Convolution2D(1024, 3, 3) dim -> {}\".format(model.output_shape))\n",
        "# input 5x5x1024\n",
        "model.add(Convolution2D(2048, 3, 3, activation='relu'))\n",
        "print (\"Convolution2D(2048, 3, 3) dim -> {}\".format(model.output_shape))\n",
        "# input 3x3xx2048\n",
        "model.add(Convolution2D(10, 3, 3, activation='relu'))\n",
        "print (\"Convolution2D(10, 3, 3) dim -> {}\".format(model.output_shape))\n",
        "# input 1x1x10\n",
        "model.add(Flatten())\n",
        "# Softmax makes the output sum up to 1 so the output can be interpreted as probabilities. \n",
        "model.add(Activation('softmax')) \n",
        "# The model will then make its prediction based on which option has the highest probability\n",
        "\n",
        "model.summary()"
      ],
      "execution_count": 0,
      "outputs": [
        {
          "output_type": "stream",
          "text": [
            "output_channels * (input_channels * window_size + 1) == number_parameters\n",
            "Convolution2D(32, 3, 3) dim -> (None, 26, 26, 32)\n",
            "Convolution2D(64, 3, 3) dim -> (None, 24, 24, 64)\n",
            "Convolution2D(128, 3, 3) dim -> (None, 22, 22, 128)\n",
            "MaxPooling2D(2,2) dim -> (None, 11, 11, 128)\n",
            "Convolution2D(256, 3, 3) dim -> (None, 9, 9, 256)\n",
            "Convolution2D(512, 3, 3) dim -> (None, 7, 7, 512)\n",
            "Convolution2D(1024, 3, 3) dim -> (None, 5, 5, 1024)\n",
            "Convolution2D(2048, 3, 3) dim -> (None, 3, 3, 2048)\n",
            "Convolution2D(10, 3, 3) dim -> (None, 1, 1, 10)\n",
            "Model: \"sequential_3\"\n",
            "_________________________________________________________________\n",
            "Layer (type)                 Output Shape              Param #   \n",
            "=================================================================\n",
            "conv2d_12 (Conv2D)           (None, 26, 26, 32)        320       \n",
            "_________________________________________________________________\n",
            "conv2d_13 (Conv2D)           (None, 24, 24, 64)        18496     \n",
            "_________________________________________________________________\n",
            "conv2d_14 (Conv2D)           (None, 22, 22, 128)       73856     \n",
            "_________________________________________________________________\n",
            "max_pooling2d_3 (MaxPooling2 (None, 11, 11, 128)       0         \n",
            "_________________________________________________________________\n",
            "conv2d_15 (Conv2D)           (None, 9, 9, 256)         295168    \n",
            "_________________________________________________________________\n",
            "conv2d_16 (Conv2D)           (None, 7, 7, 512)         1180160   \n",
            "_________________________________________________________________\n",
            "conv2d_17 (Conv2D)           (None, 5, 5, 1024)        4719616   \n",
            "_________________________________________________________________\n",
            "conv2d_18 (Conv2D)           (None, 3, 3, 2048)        18876416  \n",
            "_________________________________________________________________\n",
            "conv2d_19 (Conv2D)           (None, 1, 1, 10)          184330    \n",
            "_________________________________________________________________\n",
            "flatten_2 (Flatten)          (None, 10)                0         \n",
            "_________________________________________________________________\n",
            "activation_3 (Activation)    (None, 10)                0         \n",
            "=================================================================\n",
            "Total params: 25,348,362\n",
            "Trainable params: 25,348,362\n",
            "Non-trainable params: 0\n",
            "_________________________________________________________________\n"
          ],
          "name": "stdout"
        },
        {
          "output_type": "stream",
          "text": [
            "/usr/local/lib/python3.6/dist-packages/ipykernel_launcher.py:5: UserWarning: Update your `Conv2D` call to the Keras 2 API: `Conv2D(32, (3, 3), activation=\"relu\", input_shape=(28, 28, 1...)`\n",
            "  \"\"\"\n",
            "/usr/local/lib/python3.6/dist-packages/ipykernel_launcher.py:9: UserWarning: Update your `Conv2D` call to the Keras 2 API: `Conv2D(64, (3, 3), activation=\"relu\")`\n",
            "  if __name__ == '__main__':\n",
            "/usr/local/lib/python3.6/dist-packages/ipykernel_launcher.py:12: UserWarning: Update your `Conv2D` call to the Keras 2 API: `Conv2D(128, (3, 3), activation=\"relu\")`\n",
            "  if sys.path[0] == '':\n",
            "/usr/local/lib/python3.6/dist-packages/ipykernel_launcher.py:19: UserWarning: Update your `Conv2D` call to the Keras 2 API: `Conv2D(256, (3, 3), activation=\"relu\")`\n",
            "/usr/local/lib/python3.6/dist-packages/ipykernel_launcher.py:22: UserWarning: Update your `Conv2D` call to the Keras 2 API: `Conv2D(512, (3, 3), activation=\"relu\")`\n",
            "/usr/local/lib/python3.6/dist-packages/ipykernel_launcher.py:25: UserWarning: Update your `Conv2D` call to the Keras 2 API: `Conv2D(1024, (3, 3), activation=\"relu\")`\n",
            "/usr/local/lib/python3.6/dist-packages/ipykernel_launcher.py:28: UserWarning: Update your `Conv2D` call to the Keras 2 API: `Conv2D(2048, (3, 3), activation=\"relu\")`\n",
            "/usr/local/lib/python3.6/dist-packages/ipykernel_launcher.py:31: UserWarning: Update your `Conv2D` call to the Keras 2 API: `Conv2D(10, (3, 3), activation=\"relu\")`\n"
          ],
          "name": "stderr"
        }
      ]
    },
    {
      "cell_type": "markdown",
      "metadata": {
        "id": "09GbW8aMrAQp",
        "colab_type": "text"
      },
      "source": [
        "## But here we go to deep for the simplicity of the dataset, ie we are not extracting/learning anything in the last layers. Never able to find any accurate final layer with a total of 4202 images in model!\n"
      ]
    },
    {
      "cell_type": "markdown",
      "metadata": {
        "id": "Ve9Zu4V5xe9f",
        "colab_type": "text"
      },
      "source": [
        "Notice at as our output spatial volume is decreasing our number of filters learned is increasing.\n",
        "\n",
        "We may need to tune the exact value depending on (1) the complexity of your dataset and (2) the depth of your neural network, starting with filters in the range [32, 64, 128] in the earlier and increasing up to [256, 512, 1024] in the deeper layers\n"
      ]
    },
    {
      "cell_type": "code",
      "metadata": {
        "id": "VYZOpRb6yG7_",
        "colab_type": "code",
        "colab": {}
      },
      "source": [
        "model.compile(loss='categorical_crossentropy',\n",
        "             optimizer='adam',\n",
        "             metrics=['accuracy'])"
      ],
      "execution_count": 0,
      "outputs": []
    },
    {
      "cell_type": "code",
      "metadata": {
        "id": "5O248wVQyMft",
        "colab_type": "code",
        "outputId": "777ba1a0-dbb6-4591-a8f1-64c4b0ab3d9f",
        "colab": {
          "base_uri": "https://localhost:8080/",
          "height": 955
        }
      },
      "source": [
        "history = model.fit(X_train, Y_train, validation_split=0.33, batch_size=32, epochs=10, verbose=1)\n",
        "print(history.history.keys())\n",
        "# summarize history for accuracy\n",
        "plt.plot(history.history['acc'])\n",
        "plt.plot(history.history['val_acc'])\n",
        "plt.title('model accuracy')\n",
        "plt.ylabel('accuracy')\n",
        "plt.xlabel('epoch')\n",
        "plt.legend(['train', 'test'], loc='upper left')\n",
        "plt.show()\n",
        "# summarize history for loss\n",
        "plt.plot(history.history['loss'])\n",
        "plt.plot(history.history['val_loss'])\n",
        "plt.title('model loss')\n",
        "plt.ylabel('loss')\n",
        "plt.xlabel('epoch')\n",
        "plt.legend(['train', 'test'], loc='upper left')\n",
        "plt.show()"
      ],
      "execution_count": 0,
      "outputs": [
        {
          "output_type": "stream",
          "text": [
            "Train on 40199 samples, validate on 19801 samples\n",
            "Epoch 1/10\n",
            "40199/40199 [==============================] - 7s 165us/step - loss: 3.4190e-04 - acc: 0.9999 - val_loss: 0.0040 - val_acc: 0.9993\n",
            "Epoch 2/10\n",
            "40199/40199 [==============================] - 6s 161us/step - loss: 0.0011 - acc: 0.9998 - val_loss: 0.0049 - val_acc: 0.9992\n",
            "Epoch 3/10\n",
            "40199/40199 [==============================] - 6s 159us/step - loss: 0.0069 - acc: 0.9984 - val_loss: 0.0041 - val_acc: 0.9991\n",
            "Epoch 4/10\n",
            "40199/40199 [==============================] - 6s 158us/step - loss: 0.0013 - acc: 0.9995 - val_loss: 0.0034 - val_acc: 0.9992\n",
            "Epoch 5/10\n",
            "40199/40199 [==============================] - 6s 159us/step - loss: 2.9807e-04 - acc: 1.0000 - val_loss: 0.0025 - val_acc: 0.9994\n",
            "Epoch 6/10\n",
            "40199/40199 [==============================] - 6s 159us/step - loss: 1.4398e-05 - acc: 1.0000 - val_loss: 0.0022 - val_acc: 0.9996\n",
            "Epoch 7/10\n",
            "40199/40199 [==============================] - 6s 157us/step - loss: 1.5757e-06 - acc: 1.0000 - val_loss: 0.0022 - val_acc: 0.9996\n",
            "Epoch 8/10\n",
            "40199/40199 [==============================] - 6s 158us/step - loss: 7.2340e-07 - acc: 1.0000 - val_loss: 0.0021 - val_acc: 0.9996\n",
            "Epoch 9/10\n",
            "40199/40199 [==============================] - 6s 157us/step - loss: 4.6768e-07 - acc: 1.0000 - val_loss: 0.0021 - val_acc: 0.9996\n",
            "Epoch 10/10\n",
            "40199/40199 [==============================] - 6s 158us/step - loss: 3.4929e-07 - acc: 1.0000 - val_loss: 0.0020 - val_acc: 0.9996\n",
            "dict_keys(['val_loss', 'val_acc', 'loss', 'acc'])\n"
          ],
          "name": "stdout"
        },
        {
          "output_type": "display_data",
          "data": {
            "image/png": "[encoded data removed]",
            "text/plain": [
              "<Figure size 432x288 with 1 Axes>"
            ]
          },
          "metadata": {
            "tags": []
          }
        },
        {
          "output_type": "display_data",
          "data": {
            "image/png": "[encoded data removed]",
            "text/plain": [
              "<Figure size 432x288 with 1 Axes>"
            ]
          },
          "metadata": {
            "tags": []
          }
        }
      ]
    },
    {
      "cell_type": "code",
      "metadata": {
        "id": "FVjGh2Yx60GA",
        "colab_type": "code",
        "outputId": "02349296-df5b-4281-906f-b4b68e483ee7",
        "colab": {
          "base_uri": "https://localhost:8080/",
          "height": 34
        }
      },
      "source": [
        "layer_names = []\n",
        "for layer in model.layers[:4]:\n",
        "    layer_names.append(layer.name) # Names of the layers, so you can have them as part of your plot\n",
        "    \n",
        "layer_names"
      ],
      "execution_count": 0,
      "outputs": [
        {
          "output_type": "execute_result",
          "data": {
            "text/plain": [
              "['conv2d_13', 'conv2d_14', 'flatten_5', 'dense_4']"
            ]
          },
          "metadata": {
            "tags": []
          },
          "execution_count": 43
        }
      ]
    },
    {
      "cell_type": "code",
      "metadata": {
        "id": "Sst4KneiyOL5",
        "colab_type": "code",
        "colab": {}
      },
      "source": [
        "score = model.evaluate(X_test, Y_test, verbose=2)"
      ],
      "execution_count": 0,
      "outputs": []
    },
    {
      "cell_type": "code",
      "metadata": {
        "id": "CfJiXOKsyj4y",
        "colab_type": "code",
        "outputId": "0a456daf-c448-418b-864e-736fad44e328",
        "colab": {
          "base_uri": "https://localhost:8080/",
          "height": 34
        }
      },
      "source": [
        "print(score)"
      ],
      "execution_count": 0,
      "outputs": [
        {
          "output_type": "stream",
          "text": [
            "[0.06949837179674219, 0.9858]\n"
          ],
          "name": "stdout"
        }
      ]
    },
    {
      "cell_type": "code",
      "metadata": {
        "id": "hwLSXt7nyn_0",
        "colab_type": "code",
        "colab": {}
      },
      "source": [
        "y_pred = model.predict(X_test)"
      ],
      "execution_count": 0,
      "outputs": []
    },
    {
      "cell_type": "code",
      "metadata": {
        "id": "WWKKoOKwyppN",
        "colab_type": "code",
        "outputId": "3ddc0ad2-ddcb-4a1d-93b0-6bf160f501cb",
        "colab": {
          "base_uri": "https://localhost:8080/",
          "height": 347
        }
      },
      "source": [
        "print(y_pred[:9])\n",
        "print(y_test[:9])"
      ],
      "execution_count": 0,
      "outputs": [
        {
          "output_type": "stream",
          "text": [
            "[[2.6124500e-16 2.6481127e-21 2.6784000e-12 5.0309046e-09 1.4264027e-23\n",
            "  1.4050368e-18 9.5458313e-28 1.0000000e+00 2.8361395e-12 7.4368289e-12]\n",
            " [1.2858164e-12 2.7395536e-12 1.0000000e+00 8.0724003e-16 4.7622113e-20\n",
            "  5.1988288e-23 2.7795430e-09 2.5964153e-23 2.9761262e-14 1.3082052e-18]\n",
            " [1.7444085e-14 9.9999952e-01 1.3434084e-10 1.3289447e-15 9.0691891e-08\n",
            "  1.0772366e-12 3.8544233e-12 2.8554861e-10 3.6070495e-07 4.8823153e-13]\n",
            " [1.0000000e+00 2.8672723e-20 4.2106711e-15 8.1817623e-19 1.4358988e-20\n",
            "  1.4280949e-17 2.7061912e-12 4.3590003e-18 5.1547704e-16 4.4402206e-14]\n",
            " [4.8704672e-17 1.4459578e-20 6.4807843e-18 3.9692026e-18 1.0000000e+00\n",
            "  1.7205306e-23 2.6319073e-22 5.2473608e-17 1.0909663e-13 3.7316187e-13]\n",
            " [7.2135308e-15 9.9999881e-01 2.8163003e-11 2.8745812e-15 8.5193186e-08\n",
            "  1.9386334e-13 1.7899554e-14 3.1759697e-07 7.8128431e-07 1.0627958e-10]\n",
            " [4.9119451e-21 5.2544232e-13 8.0222426e-12 6.0012914e-16 9.9922419e-01\n",
            "  6.2170262e-15 1.0048329e-20 1.6032255e-11 7.7582046e-04 2.8276912e-09]\n",
            " [3.3146067e-27 5.3819536e-16 4.6395295e-18 1.2159592e-16 4.4295337e-08\n",
            "  1.3674175e-14 4.5274231e-26 1.7140731e-21 4.0793679e-13 1.0000000e+00]\n",
            " [2.0880668e-09 1.3633962e-20 4.9911416e-16 6.1700994e-18 1.2909752e-13\n",
            "  1.0338710e-03 9.9895823e-01 5.9142969e-24 7.8654130e-06 1.6411109e-12]]\n",
            "[7 2 1 0 4 1 4 9 5]\n"
          ],
          "name": "stdout"
        }
      ]
    },
    {
      "cell_type": "markdown",
      "metadata": {
        "id": "f3bFor2qOcAH",
        "colab_type": "text"
      },
      "source": [
        "we have a huge problem! having too many layers."
      ]
    },
    {
      "cell_type": "markdown",
      "metadata": {
        "id": "uY8nYqPksGoV",
        "colab_type": "text"
      },
      "source": [
        "# a better network: beauty through simplicity ;)"
      ]
    },
    {
      "cell_type": "code",
      "metadata": {
        "id": "32ZkPDqxsWHj",
        "colab_type": "code",
        "outputId": "7937b00a-cb85-4ba7-f40f-bb8542cc986a",
        "colab": {
          "base_uri": "https://localhost:8080/",
          "height": 436
        }
      },
      "source": [
        "from keras.layers import Activation, MaxPooling2D\n",
        "from keras.layers import Dense\n",
        "\n",
        "model = Sequential() # init of a sequential model\n",
        "# Convolution2D(number of convolution filters, rows kernel, cols kernel)\n",
        "model.add(Convolution2D(32, 3, 3, activation='relu', input_shape=(28,28,1))) # ref  (width, height, depth) of each digit image\n",
        "print (\"output_channels * (input_channels * window_size + 1) == number_parameters\")\n",
        "# input 26x26x32\n",
        "print (\"Convolution2D(32, 3, 3) dim -> {}\".format(model.output_shape))\n",
        "model.add(Convolution2D(64, 3, 3, activation='relu'))\n",
        "# input 24x24x64\n",
        "print (\"Convolution2D(64, 3, 3) dim -> {}\".format(model.output_shape))\n",
        "# input 24x24x64\n",
        "model.add(Flatten())\n",
        "model.add(Dense(10, activation='softmax'))\n",
        "# The model will then make its prediction based on which option has the highest probability\n",
        "\n",
        "model.summary()"
      ],
      "execution_count": 0,
      "outputs": [
        {
          "output_type": "stream",
          "text": [
            "output_channels * (input_channels * window_size + 1) == number_parameters\n",
            "Convolution2D(32, 3, 3) dim -> (None, 26, 26, 32)\n",
            "Convolution2D(64, 3, 3) dim -> (None, 24, 24, 64)\n",
            "Model: \"sequential_5\"\n",
            "_________________________________________________________________\n",
            "Layer (type)                 Output Shape              Param #   \n",
            "=================================================================\n",
            "conv2d_13 (Conv2D)           (None, 26, 26, 32)        320       \n",
            "_________________________________________________________________\n",
            "conv2d_14 (Conv2D)           (None, 24, 24, 64)        18496     \n",
            "_________________________________________________________________\n",
            "flatten_5 (Flatten)          (None, 36864)             0         \n",
            "_________________________________________________________________\n",
            "dense_4 (Dense)              (None, 10)                368650    \n",
            "=================================================================\n",
            "Total params: 387,466\n",
            "Trainable params: 387,466\n",
            "Non-trainable params: 0\n",
            "_________________________________________________________________\n"
          ],
          "name": "stdout"
        },
        {
          "output_type": "stream",
          "text": [
            "/usr/local/lib/python3.6/dist-packages/ipykernel_launcher.py:6: UserWarning: Update your `Conv2D` call to the Keras 2 API: `Conv2D(32, (3, 3), activation=\"relu\", input_shape=(28, 28, 1...)`\n",
            "  \n",
            "/usr/local/lib/python3.6/dist-packages/ipykernel_launcher.py:10: UserWarning: Update your `Conv2D` call to the Keras 2 API: `Conv2D(64, (3, 3), activation=\"relu\")`\n",
            "  # Remove the CWD from sys.path while we load stuff.\n"
          ],
          "name": "stderr"
        }
      ]
    }
  ]
}