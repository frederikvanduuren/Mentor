{
  "nbformat": 4,
  "nbformat_minor": 0,
  "metadata": {
    "colab": {
      "name": "Session 6A.ipynb",
      "provenance": [],
      "collapsed_sections": [],
      "include_colab_link": true
    },
    "kernelspec": {
      "name": "python3",
      "display_name": "Python 3"
    },
    "accelerator": "GPU"
  },
  "cells": [
    {
      "cell_type": "markdown",
      "metadata": {
        "id": "view-in-github",
        "colab_type": "text"
      },
      "source": [
        "<a href=\"https://colab.research.google.com/github/frederikvanduuren/Mentor/blob/master/Session_6A.ipynb\" target=\"_parent\"><img src=\"https://colab.research.google.com/assets/colab-badge.svg\" alt=\"Open In Colab\"/></a>"
      ]
    },
    {
      "cell_type": "markdown",
      "metadata": {
        "id": "q-dIgGzwP5WB",
        "colab_type": "text"
      },
      "source": [
        "## Basic Intuition\n",
        "1.  If train_acc is low then increase complexity of your model (or add more data lol)\n",
        "2.  If train_acc high and val_acc rather low (#overfitting) -> then apply regularizations (BN, DropOut, Kernel regularizers)\n",
        "### other options could be:\n",
        "3. mean-std normalization of images\n",
        "4. Data Augmentation (ImageDataGenerator in Keras)\n",
        "\n"
      ]
    },
    {
      "cell_type": "markdown",
      "metadata": {
        "id": "o7afQrxYuYed",
        "colab_type": "text"
      },
      "source": [
        "Deep neural nets with a large number of parameters are very powerful machine learning systems. However, overfitting is a serious problem in such networks.  Given below are few techniques which were proposed recently and has become a general norm these days in convolutional neural networks.\n",
        "\n",
        "Dropout is a technique for addressing this problem. The key idea is to randomly drop units (along with their connections) from the neural network during training. The reduction in number of parameters in each step of training has effect of regularization. Dropout has shown improvements in the performance of neural networks on supervised learning tasks in vision, speech recognition, document classification and computational biology, obtaining state-of-the-art results on many benchmark data sets [1].\n",
        "\n",
        "Kernel_regularizer  allows to apply penalties on layer parameters during optimization. These penalties are incorporated in the loss function that the network optimizes. This argument in convolutional layer  is nothing but L2 regularisation of the weights. This penalizes peaky weights and makes sure that all the inputs are considered. During gradient descent parameter update, the above L2 regularization ultimately means that every weight is decayed linearly, that’s why called weight decay.\n",
        "\n",
        "BatchNormalization normalizes the activation of the previous layer at each batch, i.e. applies a transformation that maintains the mean activation close to 0 and the activation standard deviation close to 1. It addresses the problem of internal covariate shift. It also acts as a regularizer, in some cases eliminating the need for Dropout. Batch Normalization achieves the same accuracy with fewer training steps thus speeding up the training process ["
      ]
    },
    {
      "cell_type": "code",
      "metadata": {
        "id": "KkwXnw9OfHZl",
        "colab_type": "code",
        "outputId": "5e3d5ef4-1789-4028-a587-95b39b0eeadb",
        "colab": {
          "base_uri": "https://localhost:8080/",
          "height": 81
        }
      },
      "source": [
        "from keras import backend as K\n",
        "import time\n",
        "import matplotlib.pyplot as plt\n",
        "import numpy as np\n",
        "% matplotlib inline\n",
        "np.random.seed(2017) \n",
        "from keras.models import Sequential\n",
        "from keras.layers.convolutional import Convolution2D, MaxPooling2D\n",
        "from keras.layers import Activation, Flatten, Dense, Dropout\n",
        "from keras.layers.normalization import BatchNormalization\n",
        "from keras.utils import np_utils\n",
        "from keras import optimizers"
      ],
      "execution_count": 0,
      "outputs": [
        {
          "output_type": "stream",
          "text": [
            "Using TensorFlow backend.\n"
          ],
          "name": "stderr"
        },
        {
          "output_type": "display_data",
          "data": {
            "text/html": [
              "<p style=\"color: red;\">\n",
              "The default version of TensorFlow in Colab will soon switch to TensorFlow 2.x.<br>\n",
              "We recommend you <a href=\"https://www.tensorflow.org/guide/migrate\" target=\"_blank\">upgrade</a> now \n",
              "or ensure your notebook will continue to use TensorFlow 1.x via the <code>%tensorflow_version 1.x</code> magic:\n",
              "<a href=\"https://colab.research.google.com/notebooks/tensorflow_version.ipynb\" target=\"_blank\">more info</a>.</p>\n"
            ],
            "text/plain": [
              "<IPython.core.display.HTML object>"
            ]
          },
          "metadata": {
            "tags": []
          }
        }
      ]
    },
    {
      "cell_type": "code",
      "metadata": {
        "id": "NHpnoCHZfO8g",
        "colab_type": "code",
        "colab": {}
      },
      "source": [
        "from keras.datasets import cifar10\n",
        "(train_features, train_labels), (test_features, test_labels) = cifar10.load_data()\n",
        "num_train, img_channels, img_rows, img_cols =  train_features.shape\n",
        "num_test, _, _, _ =  test_features.shape\n",
        "num_classes = len(np.unique(train_labels))"
      ],
      "execution_count": 0,
      "outputs": []
    },
    {
      "cell_type": "code",
      "metadata": {
        "id": "wnShnE48VfDz",
        "colab_type": "code",
        "outputId": "c87899e0-f2c0-4b13-d888-32f2e8f7de4b",
        "colab": {
          "base_uri": "https://localhost:8080/",
          "height": 541
        }
      },
      "source": [
        "! pip install wandb\n",
        "! wandb login 02d32f311f4a871d8e69b91f9ab2532052b9b622\n"
      ],
      "execution_count": 0,
      "outputs": [
        {
          "output_type": "stream",
          "text": [
            "Requirement already satisfied: wandb in /usr/local/lib/python3.6/dist-packages (0.8.13)\n",
            "Requirement already satisfied: docker-pycreds>=0.4.0 in /usr/local/lib/python3.6/dist-packages (from wandb) (0.4.0)\n",
            "Requirement already satisfied: watchdog>=0.8.3 in /usr/local/lib/python3.6/dist-packages (from wandb) (0.9.0)\n",
            "Requirement already satisfied: requests>=2.0.0 in /usr/local/lib/python3.6/dist-packages (from wandb) (2.21.0)\n",
            "Requirement already satisfied: subprocess32>=3.5.3 in /usr/local/lib/python3.6/dist-packages (from wandb) (3.5.4)\n",
            "Requirement already satisfied: nvidia-ml-py3>=7.352.0 in /usr/local/lib/python3.6/dist-packages (from wandb) (7.352.0)\n",
            "Requirement already satisfied: sentry-sdk>=0.4.0 in /usr/local/lib/python3.6/dist-packages (from wandb) (0.13.1)\n",
            "Requirement already satisfied: GitPython>=1.0.0 in /usr/local/lib/python3.6/dist-packages (from wandb) (3.0.4)\n",
            "Requirement already satisfied: six>=1.10.0 in /usr/local/lib/python3.6/dist-packages (from wandb) (1.12.0)\n",
            "Requirement already satisfied: python-dateutil>=2.6.1 in /usr/local/lib/python3.6/dist-packages (from wandb) (2.6.1)\n",
            "Requirement already satisfied: shortuuid>=0.5.0 in /usr/local/lib/python3.6/dist-packages (from wandb) (0.5.0)\n",
            "Requirement already satisfied: Click>=7.0 in /usr/local/lib/python3.6/dist-packages (from wandb) (7.0)\n",
            "Requirement already satisfied: psutil>=5.0.0 in /usr/local/lib/python3.6/dist-packages (from wandb) (5.4.8)\n",
            "Requirement already satisfied: configparser>=3.8.1 in /usr/local/lib/python3.6/dist-packages (from wandb) (4.0.2)\n",
            "Requirement already satisfied: gql>=0.1.0 in /usr/local/lib/python3.6/dist-packages (from wandb) (0.1.0)\n",
            "Requirement already satisfied: PyYAML>=3.10 in /usr/local/lib/python3.6/dist-packages (from watchdog>=0.8.3->wandb) (3.13)\n",
            "Requirement already satisfied: pathtools>=0.1.1 in /usr/local/lib/python3.6/dist-packages (from watchdog>=0.8.3->wandb) (0.1.2)\n",
            "Requirement already satisfied: argh>=0.24.1 in /usr/local/lib/python3.6/dist-packages (from watchdog>=0.8.3->wandb) (0.26.2)\n",
            "Requirement already satisfied: chardet<3.1.0,>=3.0.2 in /usr/local/lib/python3.6/dist-packages (from requests>=2.0.0->wandb) (3.0.4)\n",
            "Requirement already satisfied: urllib3<1.25,>=1.21.1 in /usr/local/lib/python3.6/dist-packages (from requests>=2.0.0->wandb) (1.24.3)\n",
            "Requirement already satisfied: certifi>=2017.4.17 in /usr/local/lib/python3.6/dist-packages (from requests>=2.0.0->wandb) (2019.9.11)\n",
            "Requirement already satisfied: idna<2.9,>=2.5 in /usr/local/lib/python3.6/dist-packages (from requests>=2.0.0->wandb) (2.8)\n",
            "Requirement already satisfied: gitdb2>=2.0.0 in /usr/local/lib/python3.6/dist-packages (from GitPython>=1.0.0->wandb) (2.0.6)\n",
            "Requirement already satisfied: graphql-core>=0.5.0 in /usr/local/lib/python3.6/dist-packages (from gql>=0.1.0->wandb) (2.2.1)\n",
            "Requirement already satisfied: promise>=0.4.0 in /usr/local/lib/python3.6/dist-packages (from gql>=0.1.0->wandb) (2.2.1)\n",
            "Requirement already satisfied: smmap2>=2.0.0 in /usr/local/lib/python3.6/dist-packages (from gitdb2>=2.0.0->GitPython>=1.0.0->wandb) (2.0.5)\n",
            "Requirement already satisfied: rx<3,>=1.6 in /usr/local/lib/python3.6/dist-packages (from graphql-core>=0.5.0->gql>=0.1.0->wandb) (1.6.1)\n",
            "\u001b[34m\u001b[1mwandb\u001b[0m: Appending key for api.wandb.ai to your netrc file: /root/.netrc\n",
            "\u001b[32mSuccessfully logged in to Weights & Biases!\u001b[0m\n"
          ],
          "name": "stdout"
        }
      ]
    },
    {
      "cell_type": "code",
      "metadata": {
        "id": "4xqRW82FeSgN",
        "colab_type": "code",
        "outputId": "bffe85c5-5882-467b-857e-f9d086f2d9dc",
        "colab": {
          "base_uri": "https://localhost:8080/",
          "height": 104
        }
      },
      "source": [
        "import wandb\n",
        "from wandb.keras import WandbCallback\n",
        "wandb.init(project=\"session-6a\")"
      ],
      "execution_count": 0,
      "outputs": [
        {
          "output_type": "display_data",
          "data": {
            "text/html": [
              "\n",
              "                Logging results to <a href=\"https://wandb.com\" target=\"_blank\">Weights & Biases</a>.<br/>\n",
              "                Project page: <a href=\"https://app.wandb.ai/frederikvanduuren/session-6a\" target=\"_blank\">https://app.wandb.ai/frederikvanduuren/session-6a</a><br/>\n",
              "                Run page: <a href=\"https://app.wandb.ai/frederikvanduuren/session-6a/runs/25050839\" target=\"_blank\">https://app.wandb.ai/frederikvanduuren/session-6a/runs/25050839</a><br/>\n",
              "                Docs: <a href=\"https://docs.wandb.com/integrations/jupyter.html\" target=\"_blank\">https://docs.wandb.com/integrations/jupyter.html</a><br/>\n",
              "            "
            ],
            "text/plain": [
              "<IPython.core.display.HTML object>"
            ]
          },
          "metadata": {
            "tags": []
          }
        },
        {
          "output_type": "execute_result",
          "data": {
            "text/plain": [
              "W&B Run: https://app.wandb.ai/frederikvanduuren/session-6a/runs/25050839"
            ]
          },
          "metadata": {
            "tags": []
          },
          "execution_count": 4
        }
      ]
    },
    {
      "cell_type": "code",
      "metadata": {
        "id": "VW2E26e-cNIW",
        "colab_type": "code",
        "colab": {}
      },
      "source": [
        "import os "
      ],
      "execution_count": 0,
      "outputs": []
    },
    {
      "cell_type": "code",
      "metadata": {
        "id": "14HyBUXdfS6G",
        "colab_type": "code",
        "outputId": "af4cb495-6e50-4097-c8b3-8374b3d909d5",
        "colab": {
          "base_uri": "https://localhost:8080/",
          "height": 213
        }
      },
      "source": [
        "class_names = ['airplane','automobile','bird','cat','deer',\n",
        "               'dog','frog','horse','ship','truck']\n",
        "fig = plt.figure(figsize=(8,3))\n",
        "for i in range(num_classes):\n",
        "    ax = fig.add_subplot(2, 5, 1 + i, xticks=[], yticks=[])\n",
        "    idx = np.where(train_labels[:]==i)[0]\n",
        "    features_idx = train_features[idx,::]\n",
        "    img_num = np.random.randint(features_idx.shape[0])\n",
        "    im = features_idx[img_num]\n",
        "    ax.set_title(class_names[i])\n",
        "    plt.imshow(im)\n",
        "plt.show()"
      ],
      "execution_count": 0,
      "outputs": [
        {
          "output_type": "display_data",
          "data": {
            "image/png": "[encoded data removed]",
            "text/plain": [
              "<Figure size 576x216 with 10 Axes>"
            ]
          },
          "metadata": {
            "tags": []
          }
        }
      ]
    },
    {
      "cell_type": "code",
      "metadata": {
        "id": "bmfsk76-fadV",
        "colab_type": "code",
        "colab": {}
      },
      "source": [
        "def plot_model_history(model_history):\n",
        "    fig, axs = plt.subplots(1,2,figsize=(15,5))\n",
        "    # summarize history for accuracy\n",
        "    axs[0].plot(range(1,len(model_history.history['acc'])+1),model_history.history['acc'])\n",
        "    axs[0].plot(range(1,len(model_history.history['val_acc'])+1),model_history.history['val_acc'])\n",
        "    axs[0].set_title('Model Accuracy')\n",
        "    axs[0].set_ylabel('Accuracy')\n",
        "    axs[0].set_xlabel('Epoch')\n",
        "    axs[0].set_xticks(np.arange(1,len(model_history.history['acc'])+1),len(model_history.history['acc'])/10)\n",
        "    axs[0].legend(['train', 'val'], loc='best')\n",
        "    # summarize history for loss\n",
        "    axs[1].plot(range(1,len(model_history.history['loss'])+1),model_history.history['loss'])\n",
        "    axs[1].plot(range(1,len(model_history.history['val_loss'])+1),model_history.history['val_loss'])\n",
        "    axs[1].set_title('Model Loss')\n",
        "    axs[1].set_ylabel('Loss')\n",
        "    axs[1].set_xlabel('Epoch')\n",
        "    axs[1].set_xticks(np.arange(1,len(model_history.history['loss'])+1),len(model_history.history['loss'])/10)\n",
        "    axs[1].legend(['train', 'val'], loc='best')\n",
        "    plt.show()"
      ],
      "execution_count": 0,
      "outputs": []
    },
    {
      "cell_type": "code",
      "metadata": {
        "id": "YJMT4rjgfdZz",
        "colab_type": "code",
        "colab": {}
      },
      "source": [
        "def accuracy(test_x, test_y, model):\n",
        "    result = model.predict(test_x)\n",
        "    predicted_class = np.argmax(result, axis=1)\n",
        "    true_class = np.argmax(test_y, axis=1)\n",
        "    num_correct = np.sum(predicted_class == true_class) \n",
        "    accuracy = float(num_correct)/result.shape[0]\n",
        "    return (accuracy * 100)"
      ],
      "execution_count": 0,
      "outputs": []
    },
    {
      "cell_type": "markdown",
      "metadata": {
        "id": "BTVXkdpGRTz7",
        "colab_type": "text"
      },
      "source": [
        "Images must be Z-score (mean-std) normalized because that’s how we have implemented while training also. Z-score normalization is important because it results in similarly-ranged feature values and that the gradients don’t go out of control (need one global learning rate multiplier)."
      ]
    },
    {
      "cell_type": "code",
      "metadata": {
        "id": "T5c5nDvxm6zR",
        "colab_type": "code",
        "colab": {}
      },
      "source": [
        "train_features = train_features.astype('float32')/255\n",
        "test_features = test_features.astype('float32')/255\n",
        "\n",
        "# mean-std normalization\n",
        "mean = np.mean(train_features,axis=(0,1,2,3))\n",
        "std = np.std(train_features,axis=(0,1,2,3))\n",
        "train_features = (train_features-mean)/(std+1e-7)\n",
        "test_features = (test_features-mean)/(std+1e-7)\n",
        "\n",
        "# convert class labels to binary class labels\n",
        "train_labels = np_utils.to_categorical(train_labels, num_classes)\n",
        "test_labels = np_utils.to_categorical(test_labels, num_classes)"
      ],
      "execution_count": 0,
      "outputs": []
    },
    {
      "cell_type": "code",
      "metadata": {
        "id": "cSOb2lkJfhVq",
        "colab_type": "code",
        "outputId": "a526fe81-7153-4161-ac84-9e15c3bbed27",
        "colab": {
          "base_uri": "https://localhost:8080/",
          "height": 732
        }
      },
      "source": [
        "from keras import regularizers\n",
        "# Define the model\n",
        "weight_decay = 1e-4\n",
        "model = Sequential()\n",
        "model.add(Convolution2D(48, 3, 3, border_mode='same', input_shape=(32, 32, 3)))\n",
        "model.add(Activation('relu'))\n",
        "model.add(BatchNormalization())\n",
        "model.add(Convolution2D(48, 3, 3, ))\n",
        "#model.add(Convolution2D(48, 1))\n",
        "#model.add(BatchNormalization())\n",
        "model.add(Activation('relu'))\n",
        "model.add(BatchNormalization())\n",
        "model.add(MaxPooling2D(pool_size=(2, 2)))\n",
        "model.add(Dropout(0.2)) # dropout 20%\n",
        "model.add(Convolution2D(96, 3, 3, border_mode='same'))\n",
        "model.add(Activation('relu'))\n",
        "model.add(Convolution2D(96, 3, 3, ))\n",
        "#model.add(Convolution2D(96, 1))\n",
        "#model.add(BatchNormalization())\n",
        "model.add(Activation('relu'))\n",
        "model.add(BatchNormalization())\n",
        "model.add(MaxPooling2D(pool_size=(2, 2)))\n",
        "model.add(Dropout(0.3)) # dropout 30%\n",
        "model.add(Convolution2D(192, 3, 3,border_mode='same'))\n",
        "model.add(Activation('relu'))\n",
        "model.add(Convolution2D(192, 3, 3, ))\n",
        "#model.add(Convolution2D(192, 1))\n",
        "#model.add(BatchNormalization())\n",
        "model.add(Activation('relu'))\n",
        "model.add(BatchNormalization())\n",
        "model.add(MaxPooling2D(pool_size=(2, 2)))\n",
        "model.add(Dropout(0.40)) # dropout 40%\n",
        "model.add(Convolution2D(10, 2))\n",
        "model.add(Flatten())\n",
        "#model.add(Dense(512))\n",
        "#model.add(Activation('relu'))\n",
        "#model.add(Dropout(0.5))\n",
        "#model.add(Dense(256))\n",
        "#model.add(Activation('relu'))\n",
        "#model.add(Dropout(0.5))\n",
        "#model.add(Dense(num_classes, activation='softmax'))\n",
        "model.add(Activation('softmax'))\n",
        "# Compile the model\n",
        "model.compile(optimizer='adam', loss='categorical_crossentropy', metrics=['accuracy'])\n",
        "#sgd = optimizers.SGD(lr=0.01, decay=1e-6, momentum=0.9, nesterov=True)\n",
        "#model.compile(optimizer=sgd, loss='categorical_crossentropy', metrics=['accuracy'])\n",
        "#rmspop = optimizers.RMSprop(lr=0.001, rho=0.9)\n",
        "#model.compile(optimizer=rmspop, loss='categorical_crossentropy', metrics=['accuracy'])\n",
        "#adamax = optimizers.Adamax()\n",
        "#model.compile(optimizer=adamax, loss='categorical_crossentropy', metrics=['accuracy'])\n",
        "#nadam = optimizers.Nadam()\n",
        "#model.compile(optimizer=nadam, loss='categorical_crossentropy', metrics=['accuracy'])\n",
        "\n",
        "#wandb.init(name=\"BN > RELU > MXP > DO\")\n"
      ],
      "execution_count": 0,
      "outputs": [
        {
          "output_type": "stream",
          "text": [
            "WARNING:tensorflow:From /usr/local/lib/python3.6/dist-packages/keras/backend/tensorflow_backend.py:66: The name tf.get_default_graph is deprecated. Please use tf.compat.v1.get_default_graph instead.\n",
            "\n",
            "WARNING:tensorflow:From /usr/local/lib/python3.6/dist-packages/keras/backend/tensorflow_backend.py:541: The name tf.placeholder is deprecated. Please use tf.compat.v1.placeholder instead.\n",
            "\n",
            "WARNING:tensorflow:From /usr/local/lib/python3.6/dist-packages/keras/backend/tensorflow_backend.py:4432: The name tf.random_uniform is deprecated. Please use tf.random.uniform instead.\n",
            "\n",
            "WARNING:tensorflow:From /usr/local/lib/python3.6/dist-packages/keras/backend/tensorflow_backend.py:190: The name tf.get_default_session is deprecated. Please use tf.compat.v1.get_default_session instead.\n",
            "\n",
            "WARNING:tensorflow:From /usr/local/lib/python3.6/dist-packages/keras/backend/tensorflow_backend.py:197: The name tf.ConfigProto is deprecated. Please use tf.compat.v1.ConfigProto instead.\n",
            "\n",
            "WARNING:tensorflow:From /usr/local/lib/python3.6/dist-packages/keras/backend/tensorflow_backend.py:203: The name tf.Session is deprecated. Please use tf.compat.v1.Session instead.\n",
            "\n",
            "WARNING:tensorflow:From /usr/local/lib/python3.6/dist-packages/keras/backend/tensorflow_backend.py:207: The name tf.global_variables is deprecated. Please use tf.compat.v1.global_variables instead.\n",
            "\n",
            "WARNING:tensorflow:From /usr/local/lib/python3.6/dist-packages/keras/backend/tensorflow_backend.py:216: The name tf.is_variable_initialized is deprecated. Please use tf.compat.v1.is_variable_initialized instead.\n",
            "\n",
            "WARNING:tensorflow:From /usr/local/lib/python3.6/dist-packages/keras/backend/tensorflow_backend.py:223: The name tf.variables_initializer is deprecated. Please use tf.compat.v1.variables_initializer instead.\n",
            "\n"
          ],
          "name": "stdout"
        },
        {
          "output_type": "stream",
          "text": [
            "/usr/local/lib/python3.6/dist-packages/ipykernel_launcher.py:5: UserWarning: Update your `Conv2D` call to the Keras 2 API: `Conv2D(48, (3, 3), input_shape=(32, 32, 3..., padding=\"same\")`\n",
            "  \"\"\"\n"
          ],
          "name": "stderr"
        },
        {
          "output_type": "stream",
          "text": [
            "WARNING:tensorflow:From /usr/local/lib/python3.6/dist-packages/keras/backend/tensorflow_backend.py:2041: The name tf.nn.fused_batch_norm is deprecated. Please use tf.compat.v1.nn.fused_batch_norm instead.\n",
            "\n",
            "WARNING:tensorflow:From /usr/local/lib/python3.6/dist-packages/keras/backend/tensorflow_backend.py:148: The name tf.placeholder_with_default is deprecated. Please use tf.compat.v1.placeholder_with_default instead.\n",
            "\n",
            "WARNING:tensorflow:From /usr/local/lib/python3.6/dist-packages/keras/backend/tensorflow_backend.py:4267: The name tf.nn.max_pool is deprecated. Please use tf.nn.max_pool2d instead.\n",
            "\n",
            "WARNING:tensorflow:From /usr/local/lib/python3.6/dist-packages/keras/backend/tensorflow_backend.py:3733: calling dropout (from tensorflow.python.ops.nn_ops) with keep_prob is deprecated and will be removed in a future version.\n",
            "Instructions for updating:\n",
            "Please use `rate` instead of `keep_prob`. Rate should be set to `rate = 1 - keep_prob`.\n"
          ],
          "name": "stdout"
        },
        {
          "output_type": "stream",
          "text": [
            "/usr/local/lib/python3.6/dist-packages/ipykernel_launcher.py:8: UserWarning: Update your `Conv2D` call to the Keras 2 API: `Conv2D(48, (3, 3))`\n",
            "  \n",
            "/usr/local/lib/python3.6/dist-packages/ipykernel_launcher.py:15: UserWarning: Update your `Conv2D` call to the Keras 2 API: `Conv2D(96, (3, 3), padding=\"same\")`\n",
            "  from ipykernel import kernelapp as app\n",
            "/usr/local/lib/python3.6/dist-packages/ipykernel_launcher.py:17: UserWarning: Update your `Conv2D` call to the Keras 2 API: `Conv2D(96, (3, 3))`\n"
          ],
          "name": "stderr"
        },
        {
          "output_type": "stream",
          "text": [
            "WARNING:tensorflow:From /usr/local/lib/python3.6/dist-packages/keras/optimizers.py:793: The name tf.train.Optimizer is deprecated. Please use tf.compat.v1.train.Optimizer instead.\n",
            "\n",
            "WARNING:tensorflow:From /usr/local/lib/python3.6/dist-packages/keras/backend/tensorflow_backend.py:3576: The name tf.log is deprecated. Please use tf.math.log instead.\n",
            "\n"
          ],
          "name": "stdout"
        },
        {
          "output_type": "stream",
          "text": [
            "/usr/local/lib/python3.6/dist-packages/ipykernel_launcher.py:24: UserWarning: Update your `Conv2D` call to the Keras 2 API: `Conv2D(192, (3, 3), padding=\"same\")`\n",
            "/usr/local/lib/python3.6/dist-packages/ipykernel_launcher.py:26: UserWarning: Update your `Conv2D` call to the Keras 2 API: `Conv2D(192, (3, 3))`\n"
          ],
          "name": "stderr"
        }
      ]
    },
    {
      "cell_type": "code",
      "metadata": {
        "id": "wvVs5tC8mR6Q",
        "colab_type": "code",
        "colab": {}
      },
      "source": [
        "model.summary()"
      ],
      "execution_count": 0,
      "outputs": []
    },
    {
      "cell_type": "markdown",
      "metadata": {
        "id": "qr6TjUwkS_z5",
        "colab_type": "text"
      },
      "source": [
        "In keras, fit() is much similar to sklearn's fit method, where you pass array of features as x values and target as y values. You pass your whole dataset at once in fit method. Also, use it if you can load whole data into your memory (small dataset).\n",
        "\n",
        "In fit_generator(), you don't pass the x and y directly, instead they come from a generator. As it is written in keras documentation, generator is used when you want to avoid duplicate data when using multiprocessing. This is for practical purpose, when you have large dataset.\n",
        "\n",
        "A thing you should know about Keras if you plan to train a deep learning model on a large dataset:\n",
        "https://towardsdatascience.com/keras-a-thing-you-should-know-about-keras-if-you-plan-to-train-a-deep-learning-model-on-a-large-fdd63ce66bd2"
      ]
    },
    {
      "cell_type": "code",
      "metadata": {
        "id": "5oK_V7WyfsXX",
        "colab_type": "code",
        "outputId": "c509a3cb-796a-4a0b-8dfa-84498cc20d4e",
        "colab": {
          "base_uri": "https://localhost:8080/",
          "height": 1000
        }
      },
      "source": [
        "from keras.preprocessing.image import ImageDataGenerator\n",
        "\n",
        "datagen = ImageDataGenerator(zoom_range=0.0, horizontal_flip=False)\n",
        "\n",
        "#datagen = ImageDataGenerator(zca_whitening=True)\n",
        "#datagen = ImageDataGenerator(featurewise_center=True, featurewise_std_normalization=True, rotation_range=20, width_shift_range=0.2, height_shift_range=0.2, horizontal_flip=True)\n",
        "\n",
        "from keras.callbacks import EarlyStopping\n",
        "#callbacks = [EarlyStopping(monitor='val_acc', patience=2)]\n",
        "\n",
        "# train the model\n",
        "start = time.time()\n",
        "# Train the model\n",
        "model_info = model.fit_generator(datagen.flow(train_features, train_labels, batch_size = 128),\n",
        "                                 samples_per_epoch = train_features.shape[0], nb_epoch = 50, \n",
        "                                 validation_data = (test_features, test_labels), verbose=1, callbacks=[WandbCallback()])\n",
        "end = time.time()\n",
        "print (\"Model took %0.2f seconds to train\"%(end - start))\n",
        "# plot model history\n",
        "plot_model_history(model_info)\n",
        "# compute test accuracy\n",
        "print (\"Accuracy on test data is: %0.2f\"%accuracy(test_features, test_labels, model))"
      ],
      "execution_count": 0,
      "outputs": [
        {
          "output_type": "stream",
          "text": [
            "WARNING:tensorflow:From /usr/local/lib/python3.6/dist-packages/tensorflow_core/python/ops/math_grad.py:1424: where (from tensorflow.python.ops.array_ops) is deprecated and will be removed in a future version.\n",
            "Instructions for updating:\n",
            "Use tf.where in 2.0, which has the same broadcast rule as np.where\n"
          ],
          "name": "stdout"
        },
        {
          "output_type": "stream",
          "text": [
            "/usr/local/lib/python3.6/dist-packages/ipykernel_launcher.py:16: UserWarning: The semantics of the Keras 2 argument `steps_per_epoch` is not the same as the Keras 1 argument `samples_per_epoch`. `steps_per_epoch` is the number of batches to draw from the generator at each epoch. Basically steps_per_epoch = samples_per_epoch/batch_size. Similarly `nb_val_samples`->`validation_steps` and `val_samples`->`steps` arguments have changed. Update your method calls accordingly.\n",
            "  app.launch_new_instance()\n",
            "/usr/local/lib/python3.6/dist-packages/ipykernel_launcher.py:16: UserWarning: Update your `fit_generator` call to the Keras 2 API: `fit_generator(<keras_pre..., validation_data=(array([[[..., verbose=1, callbacks=[<wandb.ke..., steps_per_epoch=390, epochs=50)`\n",
            "  app.launch_new_instance()\n"
          ],
          "name": "stderr"
        },
        {
          "output_type": "stream",
          "text": [
            "WARNING:tensorflow:From /usr/local/lib/python3.6/dist-packages/keras/backend/tensorflow_backend.py:1033: The name tf.assign_add is deprecated. Please use tf.compat.v1.assign_add instead.\n",
            "\n",
            "WARNING:tensorflow:From /usr/local/lib/python3.6/dist-packages/keras/backend/tensorflow_backend.py:1020: The name tf.assign is deprecated. Please use tf.compat.v1.assign instead.\n",
            "\n",
            "Epoch 1/50\n",
            "  5/390 [..............................] - ETA: 3:53 - loss: 3.5750 - acc: 0.1562"
          ],
          "name": "stdout"
        },
        {
          "output_type": "stream",
          "text": [
            "/usr/local/lib/python3.6/dist-packages/keras/callbacks.py:95: RuntimeWarning: Method (on_train_batch_end) is slow compared to the batch update (0.117103). Check your callbacks.\n",
            "  % (hook_name, delta_t_median), RuntimeWarning)\n"
          ],
          "name": "stderr"
        },
        {
          "output_type": "stream",
          "text": [
            "390/390 [==============================] - 29s 75ms/step - loss: 1.6368 - acc: 0.4592 - val_loss: 1.2557 - val_acc: 0.5514\n",
            "Epoch 2/50\n",
            "390/390 [==============================] - 26s 67ms/step - loss: 1.0829 - acc: 0.6277 - val_loss: 0.8735 - val_acc: 0.7027\n",
            "Epoch 3/50\n",
            "390/390 [==============================] - 26s 67ms/step - loss: 0.8352 - acc: 0.7072 - val_loss: 0.7743 - val_acc: 0.7310\n",
            "Epoch 4/50\n",
            "390/390 [==============================] - 26s 67ms/step - loss: 0.7049 - acc: 0.7533 - val_loss: 0.7423 - val_acc: 0.7378\n",
            "Epoch 5/50\n",
            "390/390 [==============================] - 26s 67ms/step - loss: 0.6251 - acc: 0.7828 - val_loss: 0.6256 - val_acc: 0.7859\n",
            "Epoch 6/50\n",
            "390/390 [==============================] - 26s 67ms/step - loss: 0.5622 - acc: 0.8040 - val_loss: 0.6049 - val_acc: 0.7958\n",
            "Epoch 7/50\n",
            "390/390 [==============================] - 26s 67ms/step - loss: 0.5110 - acc: 0.8234 - val_loss: 0.6135 - val_acc: 0.7964\n",
            "Epoch 8/50\n",
            "390/390 [==============================] - 26s 67ms/step - loss: 0.4685 - acc: 0.8370 - val_loss: 0.5712 - val_acc: 0.8079\n",
            "Epoch 9/50\n",
            "390/390 [==============================] - 26s 67ms/step - loss: 0.4368 - acc: 0.8478 - val_loss: 0.5084 - val_acc: 0.8298\n",
            "Epoch 10/50\n",
            "390/390 [==============================] - 26s 67ms/step - loss: 0.4014 - acc: 0.8583 - val_loss: 0.5182 - val_acc: 0.8277\n",
            "Epoch 11/50\n",
            "390/390 [==============================] - 26s 67ms/step - loss: 0.3726 - acc: 0.8693 - val_loss: 0.5193 - val_acc: 0.8312\n",
            "Epoch 12/50\n",
            "390/390 [==============================] - 26s 66ms/step - loss: 0.3463 - acc: 0.8784 - val_loss: 0.5668 - val_acc: 0.8154\n",
            "Epoch 13/50\n",
            "390/390 [==============================] - 26s 67ms/step - loss: 0.3262 - acc: 0.8847 - val_loss: 0.4850 - val_acc: 0.8364\n",
            "Epoch 14/50\n",
            "390/390 [==============================] - 26s 66ms/step - loss: 0.2981 - acc: 0.8933 - val_loss: 0.4960 - val_acc: 0.8387\n",
            "Epoch 15/50\n",
            "390/390 [==============================] - 26s 67ms/step - loss: 0.2837 - acc: 0.8991 - val_loss: 0.5174 - val_acc: 0.8392\n",
            "Epoch 16/50\n",
            "390/390 [==============================] - 26s 67ms/step - loss: 0.2670 - acc: 0.9051 - val_loss: 1.0374 - val_acc: 0.7770\n",
            "Epoch 17/50\n",
            "390/390 [==============================] - 26s 67ms/step - loss: 0.2505 - acc: 0.9101 - val_loss: 0.4802 - val_acc: 0.8470\n",
            "Epoch 18/50\n",
            "390/390 [==============================] - 26s 66ms/step - loss: 0.2378 - acc: 0.9156 - val_loss: 0.5332 - val_acc: 0.8436\n",
            "Epoch 19/50\n",
            "390/390 [==============================] - 26s 67ms/step - loss: 0.2277 - acc: 0.9192 - val_loss: 0.5262 - val_acc: 0.8398\n",
            "Epoch 20/50\n",
            "390/390 [==============================] - 26s 67ms/step - loss: 0.2149 - acc: 0.9249 - val_loss: 0.4953 - val_acc: 0.8467\n",
            "Epoch 21/50\n",
            "390/390 [==============================] - 26s 67ms/step - loss: 0.2081 - acc: 0.9263 - val_loss: 0.5271 - val_acc: 0.8447\n",
            "Epoch 22/50\n",
            "390/390 [==============================] - 26s 67ms/step - loss: 0.1967 - acc: 0.9293 - val_loss: 0.5153 - val_acc: 0.8519\n",
            "Epoch 23/50\n",
            "390/390 [==============================] - 26s 67ms/step - loss: 0.1870 - acc: 0.9323 - val_loss: 0.5448 - val_acc: 0.8458\n",
            "Epoch 24/50\n",
            "390/390 [==============================] - 26s 67ms/step - loss: 0.1741 - acc: 0.9370 - val_loss: 0.5152 - val_acc: 0.8494\n",
            "Epoch 25/50\n",
            "390/390 [==============================] - 26s 66ms/step - loss: 0.1742 - acc: 0.9371 - val_loss: 0.5264 - val_acc: 0.8540\n",
            "Epoch 26/50\n",
            "390/390 [==============================] - 26s 67ms/step - loss: 0.1657 - acc: 0.9413 - val_loss: 0.5387 - val_acc: 0.8491\n",
            "Epoch 27/50\n",
            "390/390 [==============================] - 26s 67ms/step - loss: 0.1586 - acc: 0.9438 - val_loss: 0.5095 - val_acc: 0.8545\n",
            "Epoch 28/50\n",
            "390/390 [==============================] - 26s 67ms/step - loss: 0.1569 - acc: 0.9445 - val_loss: 0.5136 - val_acc: 0.8586\n",
            "Epoch 29/50\n",
            "390/390 [==============================] - 26s 67ms/step - loss: 0.1531 - acc: 0.9455 - val_loss: 0.5571 - val_acc: 0.8518\n",
            "Epoch 30/50\n",
            "390/390 [==============================] - 26s 66ms/step - loss: 0.1441 - acc: 0.9468 - val_loss: 0.5177 - val_acc: 0.8609\n",
            "Epoch 31/50\n",
            "390/390 [==============================] - 26s 66ms/step - loss: 0.1357 - acc: 0.9517 - val_loss: 0.5427 - val_acc: 0.8528\n",
            "Epoch 32/50\n",
            "390/390 [==============================] - 26s 67ms/step - loss: 0.1329 - acc: 0.9521 - val_loss: 0.5246 - val_acc: 0.8553\n",
            "Epoch 33/50\n",
            "390/390 [==============================] - 26s 67ms/step - loss: 0.1297 - acc: 0.9534 - val_loss: 0.5436 - val_acc: 0.8578\n",
            "Epoch 34/50\n",
            "390/390 [==============================] - 26s 67ms/step - loss: 0.1324 - acc: 0.9538 - val_loss: 0.5628 - val_acc: 0.8553\n",
            "Epoch 35/50\n",
            "390/390 [==============================] - 26s 67ms/step - loss: 0.1248 - acc: 0.9559 - val_loss: 0.5567 - val_acc: 0.8557\n",
            "Epoch 36/50\n",
            "390/390 [==============================] - 26s 67ms/step - loss: 0.1203 - acc: 0.9570 - val_loss: 0.5439 - val_acc: 0.8596\n",
            "Epoch 37/50\n",
            "390/390 [==============================] - 26s 67ms/step - loss: 0.1150 - acc: 0.9580 - val_loss: 0.5834 - val_acc: 0.8565\n",
            "Epoch 38/50\n",
            "390/390 [==============================] - 26s 67ms/step - loss: 0.1210 - acc: 0.9569 - val_loss: 0.5885 - val_acc: 0.8494\n",
            "Epoch 39/50\n",
            "390/390 [==============================] - 26s 67ms/step - loss: 0.1133 - acc: 0.9586 - val_loss: 0.6254 - val_acc: 0.8539\n",
            "Epoch 40/50\n",
            "390/390 [==============================] - 26s 67ms/step - loss: 0.1122 - acc: 0.9602 - val_loss: 0.5628 - val_acc: 0.8583\n",
            "Epoch 41/50\n",
            "390/390 [==============================] - 26s 66ms/step - loss: 0.1086 - acc: 0.9614 - val_loss: 0.5729 - val_acc: 0.8589\n",
            "Epoch 42/50\n",
            "390/390 [==============================] - 26s 66ms/step - loss: 0.1089 - acc: 0.9614 - val_loss: 0.5675 - val_acc: 0.8575\n",
            "Epoch 43/50\n",
            "390/390 [==============================] - 26s 67ms/step - loss: 0.1038 - acc: 0.9623 - val_loss: 0.5319 - val_acc: 0.8646\n",
            "Epoch 44/50\n",
            "390/390 [==============================] - 26s 67ms/step - loss: 0.0983 - acc: 0.9655 - val_loss: 0.5845 - val_acc: 0.8612\n",
            "Epoch 45/50\n",
            "390/390 [==============================] - 26s 67ms/step - loss: 0.0999 - acc: 0.9644 - val_loss: 0.5814 - val_acc: 0.8591\n",
            "Epoch 46/50\n",
            "390/390 [==============================] - 26s 66ms/step - loss: 0.1022 - acc: 0.9636 - val_loss: 0.5759 - val_acc: 0.8587\n",
            "Epoch 47/50\n",
            "390/390 [==============================] - 26s 67ms/step - loss: 0.0939 - acc: 0.9663 - val_loss: 0.5393 - val_acc: 0.8653\n",
            "Epoch 48/50\n",
            "390/390 [==============================] - 26s 67ms/step - loss: 0.0930 - acc: 0.9670 - val_loss: 0.5770 - val_acc: 0.8560\n",
            "Epoch 49/50\n",
            "390/390 [==============================] - 26s 66ms/step - loss: 0.0934 - acc: 0.9665 - val_loss: 0.6022 - val_acc: 0.8544\n",
            "Epoch 50/50\n",
            "390/390 [==============================] - 26s 66ms/step - loss: 0.0921 - acc: 0.9673 - val_loss: 0.5825 - val_acc: 0.8611\n",
            "Model took 1308.90 seconds to train\n"
          ],
          "name": "stdout"
        },
        {
          "output_type": "display_data",
          "data": {
            "image/png": "[encoded data removed]",
            "text/plain": [
              "<Figure size 1080x360 with 2 Axes>"
            ]
          },
          "metadata": {
            "tags": []
          }
        },
        {
          "output_type": "stream",
          "text": [
            "Accuracy on test data is: 86.11\n"
          ],
          "name": "stdout"
        }
      ]
    }
  ]
}