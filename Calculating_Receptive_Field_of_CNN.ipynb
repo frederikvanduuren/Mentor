{
  "nbformat": 4,
  "nbformat_minor": 0,
  "metadata": {
    "colab": {
      "name": "Calculating Receptive Field of CNN.ipynb",
      "provenance": [],
      "collapsed_sections": [],
      "include_colab_link": true
    },
    "kernelspec": {
      "name": "python3",
      "display_name": "Python 3"
    }
  },
  "cells": [
    {
      "cell_type": "markdown",
      "metadata": {
        "id": "view-in-github",
        "colab_type": "text"
      },
      "source": [
        "<a href=\"https://colab.research.google.com/github/frederikvanduuren/Mentor/blob/master/Calculating_Receptive_Field_of_CNN.ipynb\" target=\"_parent\"><img src=\"https://colab.research.google.com/assets/colab-badge.svg\" alt=\"Open In Colab\"/></a>"
      ]
    },
    {
      "cell_type": "markdown",
      "metadata": {
        "id": "34W6_Ryo8rHn",
        "colab_type": "text"
      },
      "source": [
        "[https://shawnleezx.github.io/blog/2017/02/11/calculating-receptive-field-of-cnn/](https://shawnleezx.github.io/blog/2017/02/11/calculating-receptive-field-of-cnn/)\n",
        "[https://stackoverflow.com/questions/49850230/how-to-calculate-receptive-field-for-inception-module-at-google-net](https://stackoverflow.com/questions/49850230/how-to-calculate-receptive-field-for-inception-module-at-google-net)"
      ]
    },
    {
      "cell_type": "markdown",
      "metadata": {
        "id": "oSuCXw61bkry",
        "colab_type": "text"
      },
      "source": [
        "![Formula](https://www.dropbox.com/s/g21rg2wizqruasr/RF.png)"
      ]
    },
    {
      "cell_type": "markdown",
      "metadata": {
        "id": "MeBnC0F4qHWi",
        "colab_type": "text"
      },
      "source": [
        "1) RF is the size of the area of pixels that impact the output of the last convolution.\n",
        "\n",
        "2) For each convolution and pooling operation, compute the size of the output. Now find the input size that results in an output size of 1x1. Thats the size of the receptive field\n"
      ]
    },
    {
      "cell_type": "markdown",
      "metadata": {
        "id": "xRbCDI3CsjKI",
        "colab_type": "text"
      },
      "source": [
        "## The Calculations: \n",
        "### l[i] + (convs[i]['f'] - 1) * si and si = np.prod([x['s'] for x in convs[:i]])\n",
        "---\n",
        "*   Layer1: [7,2,3] RF1 = 7 = 1 + (7 - 1) * 1 (np.prod([]) is 1)\n",
        "*   Layer2: [1,1,0] RF2 = 7 = RF1 + (1 - 1) * 2\n",
        "*   Layer3: [3,2,0] RF3 = 11 = RF2 + (3 - 1) * 2\n",
        "*   Layer4: [1,1,0] RF4 = 11 = RF3 + (1 - 1) * 4\n",
        "*   Layer5: [3,1,0] RF5 = 19 = RF4 + (3 - 1) * 4\n",
        "*   Layer6: [1,1,0] RF6 = 19 = RF5 + (1 - 1) * 4\n",
        "*   Layer7: [3,2,0] RF7 = 27 = RF6 + (3 - 1) * 4\n",
        "*   Layer8: [3,2,0] RF8 = 43 = RF7 + (3 - 1) * 8\n",
        "*   Layer9: [3,2,0] RF9 = 59 = RF8 + (3 - 1) * 8\n",
        "* ...\n",
        "*   Layer22: [3,2,0] RF22 = 4123 = RF1 + (7 - 1) * 288\n",
        "\n"
      ]
    },
    {
      "cell_type": "code",
      "metadata": {
        "id": "G2UccDV09BSl",
        "colab_type": "code",
        "outputId": "844efa1a-fcdf-4361-d9e5-291063253c21",
        "colab": {
          "base_uri": "https://localhost:8080/",
          "height": 416
        }
      },
      "source": [
        "import numpy as np\n",
        "convs = [{'f':7, 's':2}, {'f':1, 's':1}, {'f':3, 's':2}, {'f':1, 's':1}, {'f':3, 's':1}, {'f':1, 's':1}, {'f':3, 's':2}\n",
        "         , {'f':3, 's':1}, {'f':3, 's':1}\n",
        "         , {'f':3, 's':1}, {'f':3, 's':2}\n",
        "         , {'f':3, 's':1}, {'f':5, 's':3}\n",
        "         , {'f':3, 's':1}, {'f':3, 's':1}\n",
        "         , {'f':3, 's':1}, {'f':5, 's':3}\n",
        "         , {'f':3, 's':1}, {'f':3, 's':2}\n",
        "         , {'f':3, 's':1}, {'f':3, 's':1}\n",
        "         , {'f':7, 's':1}]\n",
        "def rf(d):\n",
        "  l = [1]\n",
        "  for i in range(len(convs)):\n",
        "    si = np.prod([x['s'] for x in convs[:i]])\n",
        "    li = l[i] + (convs[i]['f'] - 1) * si\n",
        "    l.append(li)\n",
        "    print(si,li,l)\n",
        "  print(\"The receptive field of layer %d is %d\" %(i+1, li))\n",
        "\n",
        "rf(1)"
      ],
      "execution_count": 10,
      "outputs": [
        {
          "output_type": "stream",
          "text": [
            "1.0 7.0 [1, 7.0]\n",
            "2 7.0 [1, 7.0, 7.0]\n",
            "2 11.0 [1, 7.0, 7.0, 11.0]\n",
            "4 11.0 [1, 7.0, 7.0, 11.0, 11.0]\n",
            "4 19.0 [1, 7.0, 7.0, 11.0, 11.0, 19.0]\n",
            "4 19.0 [1, 7.0, 7.0, 11.0, 11.0, 19.0, 19.0]\n",
            "4 27.0 [1, 7.0, 7.0, 11.0, 11.0, 19.0, 19.0, 27.0]\n",
            "8 43.0 [1, 7.0, 7.0, 11.0, 11.0, 19.0, 19.0, 27.0, 43.0]\n",
            "8 59.0 [1, 7.0, 7.0, 11.0, 11.0, 19.0, 19.0, 27.0, 43.0, 59.0]\n",
            "8 75.0 [1, 7.0, 7.0, 11.0, 11.0, 19.0, 19.0, 27.0, 43.0, 59.0, 75.0]\n",
            "8 91.0 [1, 7.0, 7.0, 11.0, 11.0, 19.0, 19.0, 27.0, 43.0, 59.0, 75.0, 91.0]\n",
            "16 123.0 [1, 7.0, 7.0, 11.0, 11.0, 19.0, 19.0, 27.0, 43.0, 59.0, 75.0, 91.0, 123.0]\n",
            "16 187.0 [1, 7.0, 7.0, 11.0, 11.0, 19.0, 19.0, 27.0, 43.0, 59.0, 75.0, 91.0, 123.0, 187.0]\n",
            "48 283.0 [1, 7.0, 7.0, 11.0, 11.0, 19.0, 19.0, 27.0, 43.0, 59.0, 75.0, 91.0, 123.0, 187.0, 283.0]\n",
            "48 379.0 [1, 7.0, 7.0, 11.0, 11.0, 19.0, 19.0, 27.0, 43.0, 59.0, 75.0, 91.0, 123.0, 187.0, 283.0, 379.0]\n",
            "48 475.0 [1, 7.0, 7.0, 11.0, 11.0, 19.0, 19.0, 27.0, 43.0, 59.0, 75.0, 91.0, 123.0, 187.0, 283.0, 379.0, 475.0]\n",
            "48 667.0 [1, 7.0, 7.0, 11.0, 11.0, 19.0, 19.0, 27.0, 43.0, 59.0, 75.0, 91.0, 123.0, 187.0, 283.0, 379.0, 475.0, 667.0]\n",
            "144 955.0 [1, 7.0, 7.0, 11.0, 11.0, 19.0, 19.0, 27.0, 43.0, 59.0, 75.0, 91.0, 123.0, 187.0, 283.0, 379.0, 475.0, 667.0, 955.0]\n",
            "144 1243.0 [1, 7.0, 7.0, 11.0, 11.0, 19.0, 19.0, 27.0, 43.0, 59.0, 75.0, 91.0, 123.0, 187.0, 283.0, 379.0, 475.0, 667.0, 955.0, 1243.0]\n",
            "288 1819.0 [1, 7.0, 7.0, 11.0, 11.0, 19.0, 19.0, 27.0, 43.0, 59.0, 75.0, 91.0, 123.0, 187.0, 283.0, 379.0, 475.0, 667.0, 955.0, 1243.0, 1819.0]\n",
            "288 2395.0 [1, 7.0, 7.0, 11.0, 11.0, 19.0, 19.0, 27.0, 43.0, 59.0, 75.0, 91.0, 123.0, 187.0, 283.0, 379.0, 475.0, 667.0, 955.0, 1243.0, 1819.0, 2395.0]\n",
            "288 4123.0 [1, 7.0, 7.0, 11.0, 11.0, 19.0, 19.0, 27.0, 43.0, 59.0, 75.0, 91.0, 123.0, 187.0, 283.0, 379.0, 475.0, 667.0, 955.0, 1243.0, 1819.0, 2395.0, 4123.0]\n",
            "The receptive field of layer 22 is 4123\n"
          ],
          "name": "stdout"
        }
      ]
    }
  ]
}